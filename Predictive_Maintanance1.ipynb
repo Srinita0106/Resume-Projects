{
  "cells": [
    {
      "cell_type": "markdown",
      "metadata": {
        "id": "view-in-github",
        "colab_type": "text"
      },
      "source": [
        "<a href=\"https://colab.research.google.com/github/Srinita0106/Srinita0106/blob/main/Predictive_Maintanance1.ipynb\" target=\"_parent\"><img src=\"https://colab.research.google.com/assets/colab-badge.svg\" alt=\"Open In Colab\"/></a>"
      ]
    },
    {
      "cell_type": "code",
      "execution_count": null,
      "metadata": {
        "colab": {
          "base_uri": "https://localhost:8080/",
          "height": 73
        },
        "id": "Q9fYgz7RQuU7",
        "outputId": "57df3ff7-99f0-44d5-d890-3fc0ebbfa356"
      },
      "outputs": [
        {
          "output_type": "display_data",
          "data": {
            "text/plain": [
              "<IPython.core.display.HTML object>"
            ],
            "text/html": [
              "\n",
              "     <input type=\"file\" id=\"files-28b1a1d0-3b53-4792-9225-0187d0e552fb\" name=\"files[]\" multiple disabled\n",
              "        style=\"border:none\" />\n",
              "     <output id=\"result-28b1a1d0-3b53-4792-9225-0187d0e552fb\">\n",
              "      Upload widget is only available when the cell has been executed in the\n",
              "      current browser session. Please rerun this cell to enable.\n",
              "      </output>\n",
              "      <script>// Copyright 2017 Google LLC\n",
              "//\n",
              "// Licensed under the Apache License, Version 2.0 (the \"License\");\n",
              "// you may not use this file except in compliance with the License.\n",
              "// You may obtain a copy of the License at\n",
              "//\n",
              "//      http://www.apache.org/licenses/LICENSE-2.0\n",
              "//\n",
              "// Unless required by applicable law or agreed to in writing, software\n",
              "// distributed under the License is distributed on an \"AS IS\" BASIS,\n",
              "// WITHOUT WARRANTIES OR CONDITIONS OF ANY KIND, either express or implied.\n",
              "// See the License for the specific language governing permissions and\n",
              "// limitations under the License.\n",
              "\n",
              "/**\n",
              " * @fileoverview Helpers for google.colab Python module.\n",
              " */\n",
              "(function(scope) {\n",
              "function span(text, styleAttributes = {}) {\n",
              "  const element = document.createElement('span');\n",
              "  element.textContent = text;\n",
              "  for (const key of Object.keys(styleAttributes)) {\n",
              "    element.style[key] = styleAttributes[key];\n",
              "  }\n",
              "  return element;\n",
              "}\n",
              "\n",
              "// Max number of bytes which will be uploaded at a time.\n",
              "const MAX_PAYLOAD_SIZE = 100 * 1024;\n",
              "\n",
              "function _uploadFiles(inputId, outputId) {\n",
              "  const steps = uploadFilesStep(inputId, outputId);\n",
              "  const outputElement = document.getElementById(outputId);\n",
              "  // Cache steps on the outputElement to make it available for the next call\n",
              "  // to uploadFilesContinue from Python.\n",
              "  outputElement.steps = steps;\n",
              "\n",
              "  return _uploadFilesContinue(outputId);\n",
              "}\n",
              "\n",
              "// This is roughly an async generator (not supported in the browser yet),\n",
              "// where there are multiple asynchronous steps and the Python side is going\n",
              "// to poll for completion of each step.\n",
              "// This uses a Promise to block the python side on completion of each step,\n",
              "// then passes the result of the previous step as the input to the next step.\n",
              "function _uploadFilesContinue(outputId) {\n",
              "  const outputElement = document.getElementById(outputId);\n",
              "  const steps = outputElement.steps;\n",
              "\n",
              "  const next = steps.next(outputElement.lastPromiseValue);\n",
              "  return Promise.resolve(next.value.promise).then((value) => {\n",
              "    // Cache the last promise value to make it available to the next\n",
              "    // step of the generator.\n",
              "    outputElement.lastPromiseValue = value;\n",
              "    return next.value.response;\n",
              "  });\n",
              "}\n",
              "\n",
              "/**\n",
              " * Generator function which is called between each async step of the upload\n",
              " * process.\n",
              " * @param {string} inputId Element ID of the input file picker element.\n",
              " * @param {string} outputId Element ID of the output display.\n",
              " * @return {!Iterable<!Object>} Iterable of next steps.\n",
              " */\n",
              "function* uploadFilesStep(inputId, outputId) {\n",
              "  const inputElement = document.getElementById(inputId);\n",
              "  inputElement.disabled = false;\n",
              "\n",
              "  const outputElement = document.getElementById(outputId);\n",
              "  outputElement.innerHTML = '';\n",
              "\n",
              "  const pickedPromise = new Promise((resolve) => {\n",
              "    inputElement.addEventListener('change', (e) => {\n",
              "      resolve(e.target.files);\n",
              "    });\n",
              "  });\n",
              "\n",
              "  const cancel = document.createElement('button');\n",
              "  inputElement.parentElement.appendChild(cancel);\n",
              "  cancel.textContent = 'Cancel upload';\n",
              "  const cancelPromise = new Promise((resolve) => {\n",
              "    cancel.onclick = () => {\n",
              "      resolve(null);\n",
              "    };\n",
              "  });\n",
              "\n",
              "  // Wait for the user to pick the files.\n",
              "  const files = yield {\n",
              "    promise: Promise.race([pickedPromise, cancelPromise]),\n",
              "    response: {\n",
              "      action: 'starting',\n",
              "    }\n",
              "  };\n",
              "\n",
              "  cancel.remove();\n",
              "\n",
              "  // Disable the input element since further picks are not allowed.\n",
              "  inputElement.disabled = true;\n",
              "\n",
              "  if (!files) {\n",
              "    return {\n",
              "      response: {\n",
              "        action: 'complete',\n",
              "      }\n",
              "    };\n",
              "  }\n",
              "\n",
              "  for (const file of files) {\n",
              "    const li = document.createElement('li');\n",
              "    li.append(span(file.name, {fontWeight: 'bold'}));\n",
              "    li.append(span(\n",
              "        `(${file.type || 'n/a'}) - ${file.size} bytes, ` +\n",
              "        `last modified: ${\n",
              "            file.lastModifiedDate ? file.lastModifiedDate.toLocaleDateString() :\n",
              "                                    'n/a'} - `));\n",
              "    const percent = span('0% done');\n",
              "    li.appendChild(percent);\n",
              "\n",
              "    outputElement.appendChild(li);\n",
              "\n",
              "    const fileDataPromise = new Promise((resolve) => {\n",
              "      const reader = new FileReader();\n",
              "      reader.onload = (e) => {\n",
              "        resolve(e.target.result);\n",
              "      };\n",
              "      reader.readAsArrayBuffer(file);\n",
              "    });\n",
              "    // Wait for the data to be ready.\n",
              "    let fileData = yield {\n",
              "      promise: fileDataPromise,\n",
              "      response: {\n",
              "        action: 'continue',\n",
              "      }\n",
              "    };\n",
              "\n",
              "    // Use a chunked sending to avoid message size limits. See b/62115660.\n",
              "    let position = 0;\n",
              "    do {\n",
              "      const length = Math.min(fileData.byteLength - position, MAX_PAYLOAD_SIZE);\n",
              "      const chunk = new Uint8Array(fileData, position, length);\n",
              "      position += length;\n",
              "\n",
              "      const base64 = btoa(String.fromCharCode.apply(null, chunk));\n",
              "      yield {\n",
              "        response: {\n",
              "          action: 'append',\n",
              "          file: file.name,\n",
              "          data: base64,\n",
              "        },\n",
              "      };\n",
              "\n",
              "      let percentDone = fileData.byteLength === 0 ?\n",
              "          100 :\n",
              "          Math.round((position / fileData.byteLength) * 100);\n",
              "      percent.textContent = `${percentDone}% done`;\n",
              "\n",
              "    } while (position < fileData.byteLength);\n",
              "  }\n",
              "\n",
              "  // All done.\n",
              "  yield {\n",
              "    response: {\n",
              "      action: 'complete',\n",
              "    }\n",
              "  };\n",
              "}\n",
              "\n",
              "scope.google = scope.google || {};\n",
              "scope.google.colab = scope.google.colab || {};\n",
              "scope.google.colab._files = {\n",
              "  _uploadFiles,\n",
              "  _uploadFilesContinue,\n",
              "};\n",
              "})(self);\n",
              "</script> "
            ]
          },
          "metadata": {}
        },
        {
          "output_type": "stream",
          "name": "stdout",
          "text": [
            "Saving ai4i2020.csv to ai4i2020.csv\n"
          ]
        }
      ],
      "source": [
        "import io\n",
        "from google.colab import files\n",
        "data=files.upload()"
      ]
    },
    {
      "cell_type": "markdown",
      "metadata": {
        "id": "K_kgzNL-ZBo2"
      },
      "source": [
        "This synthetic dataset is modeled after an existing milling machine and consists of 10 000 data points from a stored as rows with 14 features in columns\n",
        "\n",
        "UID: unique identifier ranging from 1 to 10000\n",
        "\n",
        "product ID: consisting of a letter L, M, or H for low (50% of all products), medium (30%) and high (20%) as product quality variants and a variant-specific serial number\n",
        "\n",
        "type: just the product type L, M or H from column 2\n",
        "\n",
        "air temperature [K]: generated using a random walk process later normalized to a standard deviation of 2 K around 300 K\n",
        "\n",
        "process temperature [K]: generated using a random walk process normalized to a standard deviation of 1 K, added to the air temperature plus 10 K.\n",
        "\n",
        "rotational speed [rpm]: calculated from a power of 2860 W, overlaid with a normally distributed noise\n",
        "\n",
        "torque [Nm]: torque values are normally distributed around 40 Nm with a SD = 10 Nm and no negative values.\n",
        "\n",
        "tool wear [min]: The quality variants H/M/L add 5/3/2 minutes of tool wear to the used tool in the process.\n",
        "\n",
        "a 'machine failure' label that indicates, whether the machine has failed in this particular datapoint for any of the following failure modes are true.\n",
        "The machine failure consists of five independent failure modes\n",
        "\n",
        "tool wear failure (TWF): the tool will be replaced of fail at a randomly selected tool wear time between 200 - 240 mins (120 times in our dataset). At this point in time, the tool is replaced 69 times, and fails 51 times (randomly assigned).\n",
        "\n",
        "heat dissipation failure (HDF): heat dissipation causes a process failure, if the difference between air- and process temperature is below 8.6 K and the tools rotational speed is below 1380 rpm. This is the case for 115 data points.\n",
        "\n",
        "power failure (PWF): the product of torque and rotational speed (in rad/s) equals the power required for the process. If this power is below 3500 W or above 9000 W, the process fails, which is the case 95 times in our dataset\n",
        "\n",
        "overstrain failure (OSF): if the product of tool wear and torque exceeds 11,000 minNm for the L product variant (12,000 M, 13,000 H), the process fails due to overstrain. This is true for 98 datapoints.\n",
        "\n",
        "random failures (RNF): each process has a chance of 0,1 % to fail regardless of its process parameters. This is the case for only 5 datapoints, less than could be expected for 10,000 datapoints in our dataset.\n",
        "If at least one of the above failure modes is true, the process fails and the 'machine failure' label is set to 1. It is therefore not transparent to the machine learning method, which of the failure modes has caused the process to fail."
      ]
    },
    {
      "cell_type": "code",
      "execution_count": null,
      "metadata": {
        "id": "7wUT9bLFUkxT"
      },
      "outputs": [],
      "source": [
        "import pandas as pd\n",
        "import numpy as np\n",
        "import matplotlib.pyplot as plt\n",
        "import seaborn as sns\n"
      ]
    },
    {
      "cell_type": "code",
      "execution_count": null,
      "metadata": {
        "id": "Phja5hiEUmU7"
      },
      "outputs": [],
      "source": [
        "data = pd.read_csv('ai4i2020.csv')\n"
      ]
    },
    {
      "cell_type": "markdown",
      "metadata": {
        "id": "9xltiSYeuQYQ"
      },
      "source": [
        "# **EXPLORATORY DATA ANALYSIS**"
      ]
    },
    {
      "cell_type": "code",
      "execution_count": null,
      "metadata": {
        "colab": {
          "base_uri": "https://localhost:8080/"
        },
        "id": "wRrWKTFnuU9B",
        "outputId": "3fe47158-faf2-415b-c18f-9fce31b8c7c1"
      },
      "outputs": [
        {
          "output_type": "stream",
          "name": "stdout",
          "text": [
            "   UDI Product ID Type  Air temperature [K]  Process temperature [K]  \\\n",
            "0    1     M14860    M                298.1                    308.6   \n",
            "1    2     L47181    L                298.2                    308.7   \n",
            "2    3     L47182    L                298.1                    308.5   \n",
            "3    4     L47183    L                298.2                    308.6   \n",
            "4    5     L47184    L                298.2                    308.7   \n",
            "\n",
            "   Rotational speed [rpm]  Torque [Nm]  Tool wear [min]  Machine failure  TWF  \\\n",
            "0                    1551         42.8                0                0    0   \n",
            "1                    1408         46.3                3                0    0   \n",
            "2                    1498         49.4                5                0    0   \n",
            "3                    1433         39.5                7                0    0   \n",
            "4                    1408         40.0                9                0    0   \n",
            "\n",
            "   HDF  PWF  OSF  RNF  \n",
            "0    0    0    0    0  \n",
            "1    0    0    0    0  \n",
            "2    0    0    0    0  \n",
            "3    0    0    0    0  \n",
            "4    0    0    0    0  \n"
          ]
        }
      ],
      "source": [
        "# Display the first few rows of the DataFrame\n",
        "print(data.head())"
      ]
    },
    {
      "cell_type": "code",
      "execution_count": null,
      "metadata": {
        "colab": {
          "base_uri": "https://localhost:8080/"
        },
        "id": "7R8oulUWUsmP",
        "outputId": "6b1f7cda-7f26-4e9d-9a48-710a785ab1dd"
      },
      "outputs": [
        {
          "output_type": "stream",
          "name": "stdout",
          "text": [
            "Shape of the dataset: (10000, 14)\n",
            "Summary of the dataset:\n",
            "<class 'pandas.core.frame.DataFrame'>\n",
            "RangeIndex: 10000 entries, 0 to 9999\n",
            "Data columns (total 14 columns):\n",
            " #   Column                   Non-Null Count  Dtype  \n",
            "---  ------                   --------------  -----  \n",
            " 0   UDI                      10000 non-null  int64  \n",
            " 1   Product ID               10000 non-null  object \n",
            " 2   Type                     10000 non-null  object \n",
            " 3   Air temperature [K]      10000 non-null  float64\n",
            " 4   Process temperature [K]  10000 non-null  float64\n",
            " 5   Rotational speed [rpm]   10000 non-null  int64  \n",
            " 6   Torque [Nm]              10000 non-null  float64\n",
            " 7   Tool wear [min]          10000 non-null  int64  \n",
            " 8   Machine failure          10000 non-null  int64  \n",
            " 9   TWF                      10000 non-null  int64  \n",
            " 10  HDF                      10000 non-null  int64  \n",
            " 11  PWF                      10000 non-null  int64  \n",
            " 12  OSF                      10000 non-null  int64  \n",
            " 13  RNF                      10000 non-null  int64  \n",
            "dtypes: float64(3), int64(9), object(2)\n",
            "memory usage: 1.1+ MB\n",
            "None\n"
          ]
        }
      ],
      "source": [
        "#Exploratory Data Analysis\n",
        "#Check the dimensions of dataset\n",
        "print(\"Shape of the dataset:\", data.shape)\n",
        "\n",
        "\n",
        "#Summary of dataset\n",
        "print(\"Summary of the dataset:\")\n",
        "print(data.info())\n",
        "\n"
      ]
    },
    {
      "cell_type": "code",
      "execution_count": null,
      "metadata": {
        "colab": {
          "base_uri": "https://localhost:8080/"
        },
        "id": "krj1-4mIXYdX",
        "outputId": "c8bb12bb-df90-427e-a301-110b685d8506"
      },
      "outputs": [
        {
          "output_type": "stream",
          "name": "stdout",
          "text": [
            "Missing values in the dataset:\n",
            "UDI                        0\n",
            "Product ID                 0\n",
            "Type                       0\n",
            "Air temperature [K]        0\n",
            "Process temperature [K]    0\n",
            "Rotational speed [rpm]     0\n",
            "Torque [Nm]                0\n",
            "Tool wear [min]            0\n",
            "Machine failure            0\n",
            "TWF                        0\n",
            "HDF                        0\n",
            "PWF                        0\n",
            "OSF                        0\n",
            "RNF                        0\n",
            "dtype: int64\n"
          ]
        }
      ],
      "source": [
        "#Handling missing values\n",
        "print(\"Missing values in the dataset:\")\n",
        "print(data.isnull().sum())\n"
      ]
    },
    {
      "cell_type": "code",
      "execution_count": null,
      "metadata": {
        "colab": {
          "base_uri": "https://localhost:8080/"
        },
        "id": "r8auemT4urFx",
        "outputId": "4902c1f8-3954-4e24-dd4d-48d261b819a1"
      },
      "outputs": [
        {
          "output_type": "stream",
          "name": "stdout",
          "text": [
            "UDI                          int64\n",
            "Product ID                  object\n",
            "Type                        object\n",
            "Air temperature [K]        float64\n",
            "Process temperature [K]    float64\n",
            "Rotational speed [rpm]       int64\n",
            "Torque [Nm]                float64\n",
            "Tool wear [min]              int64\n",
            "Machine failure              int64\n",
            "TWF                          int64\n",
            "HDF                          int64\n",
            "PWF                          int64\n",
            "OSF                          int64\n",
            "RNF                          int64\n",
            "dtype: object\n"
          ]
        }
      ],
      "source": [
        "# Check the data types of each column\n",
        "print(data.dtypes)"
      ]
    },
    {
      "cell_type": "code",
      "execution_count": null,
      "metadata": {
        "colab": {
          "base_uri": "https://localhost:8080/",
          "height": 607
        },
        "id": "F0hxuIXYuuhF",
        "outputId": "41926865-baf6-4554-ae63-ee1d4367ff8b"
      },
      "outputs": [
        {
          "output_type": "display_data",
          "data": {
            "text/plain": [
              "<Figure size 1200x600 with 6 Axes>"
            ],
            "image/png": "[encoded data removed]"
          },
          "metadata": {}
        }
      ],
      "source": [
        "# Distribution of numeric variables\n",
        "numeric_cols = ['Air temperature [K]', 'Process temperature [K]', 'Rotational speed [rpm]', 'Torque [Nm]', 'Tool wear [min]']\n",
        "data[numeric_cols].hist(bins=20, figsize=(12, 6))\n",
        "plt.tight_layout()\n",
        "plt.show()"
      ]
    },
    {
      "cell_type": "markdown",
      "metadata": {
        "id": "FwblJgXfH4I4"
      },
      "source": [
        "x-axis: The x-axis represents the range or intervals of the numeric variable values. It shows the different bins or categories into which the data is divided.\n",
        "\n",
        "y-axis: The y-axis represents the frequency or count of occurrences of the variable values within each bin.  The y-axis values indicate the frequency of data points within the corresponding bin.\n",
        "\n",
        "Air temperature [K] and Process temperature [K]: The histograms for these variables may show the distribution of temperatures in the process. We can observe whether the data is normally distributed, skewed, or has multiple peaks. This information can be helpful in understanding the temperature characteristics of the process.\n",
        "\n",
        "Rotational speed [rpm] and Torque [Nm]: The histograms for these variables may indicate the distribution of rotational speed and torque values. We can look for patterns such as uniform distribution, clusters, or outliers. This information can provide insights into the behavior and variability of rotational speed and torque in the process.\n",
        "\n",
        "Tool wear [min]: The histogram for this variable may show the distribution of tool wear in minutes. We can examine whether the wear is concentrated in certain ranges or if there are outliers indicating extreme wear. This information can be useful in monitoring tool performance and planning maintenance."
      ]
    },
    {
      "cell_type": "code",
      "execution_count": null,
      "metadata": {
        "colab": {
          "base_uri": "https://localhost:8080/",
          "height": 607
        },
        "id": "Q61ybuJ0vQKh",
        "outputId": "a9f5f775-9521-4ebc-c09e-64337ba17f7e"
      },
      "outputs": [
        {
          "output_type": "display_data",
          "data": {
            "text/plain": [
              "<Figure size 640x480 with 2 Axes>"
            ],
            "image/png": "[encoded data removed]"
          },
          "metadata": {}
        }
      ],
      "source": [
        "# Correlation matrix\n",
        "corr_matrix = data[numeric_cols].corr()\n",
        "sns.heatmap(corr_matrix, annot=True, cmap='coolwarm')\n",
        "plt.title('Correlation Matrix')\n",
        "plt.show()"
      ]
    },
    {
      "cell_type": "markdown",
      "metadata": {
        "id": "JwWosb3PI6Fy"
      },
      "source": [
        "Positive correlations are indicated by dark red colors, suggesting that as one variable increases, the other variable tends to increase as well. Negative correlations are indicated by dark blue colors, indicating that as one variable increases, the other variable tends to decrease."
      ]
    },
    {
      "cell_type": "code",
      "execution_count": null,
      "metadata": {
        "colab": {
          "base_uri": "https://localhost:8080/",
          "height": 1000
        },
        "id": "Sr7-JZ6zvXkm",
        "outputId": "ef3b121a-4ef6-4a2a-fe0b-04e6fe671418"
      },
      "outputs": [
        {
          "output_type": "display_data",
          "data": {
            "text/plain": [
              "<Figure size 800x400 with 1 Axes>"
            ],
            "image/png": "[encoded data removed]"
          },
          "metadata": {}
        },
        {
          "output_type": "display_data",
          "data": {
            "text/plain": [
              "<Figure size 800x400 with 1 Axes>"
            ],
            "image/png": "[encoded data removed]"
          },
          "metadata": {}
        },
        {
          "output_type": "display_data",
          "data": {
            "text/plain": [
              "<Figure size 800x400 with 1 Axes>"
            ],
            "image/png": "[encoded data removed]"
          },
          "metadata": {}
        },
        {
          "output_type": "display_data",
          "data": {
            "text/plain": [
              "<Figure size 800x400 with 1 Axes>"
            ],
            "image/png": "[encoded data removed]"
          },
          "metadata": {}
        },
        {
          "output_type": "display_data",
          "data": {
            "text/plain": [
              "<Figure size 800x400 with 1 Axes>"
            ],
            "image/png": "[encoded data removed]"
          },
          "metadata": {}
        },
        {
          "output_type": "display_data",
          "data": {
            "text/plain": [
              "<Figure size 800x400 with 1 Axes>"
            ],
            "image/png": "[encoded data removed]"
          },
          "metadata": {}
        },
        {
          "output_type": "display_data",
          "data": {
            "text/plain": [
              "<Figure size 800x400 with 1 Axes>"
            ],
            "image/png": "[encoded data removed]"
          },
          "metadata": {}
        }
      ],
      "source": [
        "# Distribution of categorical variables\n",
        "categorical_cols = ['Type', 'Machine failure', 'TWF', 'HDF', 'PWF', 'OSF', 'RNF']\n",
        "for col in categorical_cols:\n",
        "    plt.figure(figsize=(8, 4))\n",
        "    sns.countplot(x=col, data=data)\n",
        "    plt.title(f'Distribution of {col}')\n",
        "    plt.show()"
      ]
    },
    {
      "cell_type": "code",
      "execution_count": null,
      "metadata": {
        "colab": {
          "base_uri": "https://localhost:8080/"
        },
        "id": "v2ZQl8yTXfdE",
        "outputId": "06a1e85e-adaa-4743-86dc-5a76798d4752"
      },
      "outputs": [
        {
          "output_type": "stream",
          "name": "stdout",
          "text": [
            "Descriptive statistics:\n",
            "               UDI  Air temperature [K]  Process temperature [K]  \\\n",
            "count  10000.00000         10000.000000             10000.000000   \n",
            "mean    5000.50000           300.004930               310.005560   \n",
            "std     2886.89568             2.000259                 1.483734   \n",
            "min        1.00000           295.300000               305.700000   \n",
            "25%     2500.75000           298.300000               308.800000   \n",
            "50%     5000.50000           300.100000               310.100000   \n",
            "75%     7500.25000           301.500000               311.100000   \n",
            "max    10000.00000           304.500000               313.800000   \n",
            "\n",
            "       Rotational speed [rpm]   Torque [Nm]  Tool wear [min]  Machine failure  \\\n",
            "count            10000.000000  10000.000000     10000.000000     10000.000000   \n",
            "mean              1538.776100     39.986910       107.951000         0.033900   \n",
            "std                179.284096      9.968934        63.654147         0.180981   \n",
            "min               1168.000000      3.800000         0.000000         0.000000   \n",
            "25%               1423.000000     33.200000        53.000000         0.000000   \n",
            "50%               1503.000000     40.100000       108.000000         0.000000   \n",
            "75%               1612.000000     46.800000       162.000000         0.000000   \n",
            "max               2886.000000     76.600000       253.000000         1.000000   \n",
            "\n",
            "                TWF           HDF           PWF           OSF          RNF  \n",
            "count  10000.000000  10000.000000  10000.000000  10000.000000  10000.00000  \n",
            "mean       0.004600      0.011500      0.009500      0.009800      0.00190  \n",
            "std        0.067671      0.106625      0.097009      0.098514      0.04355  \n",
            "min        0.000000      0.000000      0.000000      0.000000      0.00000  \n",
            "25%        0.000000      0.000000      0.000000      0.000000      0.00000  \n",
            "50%        0.000000      0.000000      0.000000      0.000000      0.00000  \n",
            "75%        0.000000      0.000000      0.000000      0.000000      0.00000  \n",
            "max        1.000000      1.000000      1.000000      1.000000      1.00000  \n"
          ]
        }
      ],
      "source": [
        "#Analysing numerical variables\n",
        "print(\"Descriptive statistics:\")\n",
        "print(data.describe())\n",
        "\n"
      ]
    },
    {
      "cell_type": "code",
      "execution_count": null,
      "metadata": {
        "colab": {
          "base_uri": "https://localhost:8080/"
        },
        "id": "RMggOxi3X5gN",
        "outputId": "13d7c630-a649-47a1-fad4-4415af97b20d"
      },
      "outputs": [
        {
          "output_type": "stream",
          "name": "stdout",
          "text": [
            "Unique values in each categorical variable:\n",
            "Product ID : 10000\n",
            "Type : 3\n"
          ]
        }
      ],
      "source": [
        "#Analyzing categorical variables\n",
        "print(\"Unique values in each categorical variable:\")\n",
        "for column in data.select_dtypes(include='object').columns:\n",
        "    print(column, \":\", data[column].nunique())\n"
      ]
    },
    {
      "cell_type": "code",
      "execution_count": null,
      "metadata": {
        "colab": {
          "base_uri": "https://localhost:8080/"
        },
        "id": "oeStrL9qp3is",
        "outputId": "256fbef7-e4e1-43cc-8abe-4117e6d1fda3"
      },
      "outputs": [
        {
          "output_type": "stream",
          "name": "stdout",
          "text": [
            "Index(['UDI', 'Product ID', 'Type', 'Air temperature [K]',\n",
            "       'Process temperature [K]', 'Rotational speed [rpm]', 'Torque [Nm]',\n",
            "       'Tool wear [min]', 'Machine failure', 'TWF', 'HDF', 'PWF', 'OSF',\n",
            "       'RNF'],\n",
            "      dtype='object')\n"
          ]
        }
      ],
      "source": [
        "# Print the column names\n",
        "print(data.columns)"
      ]
    },
    {
      "cell_type": "markdown",
      "metadata": {
        "id": "hBDwib5IsrOJ"
      },
      "source": [
        "The reason for choosing the 'Torque [Nm]' column in this example may be due to the following reasons:\n",
        "\n",
        "Domain Knowledge: In the context of the dataset, the 'Torque [Nm]' column may be of particular interest or significance. It could be a crucial parameter in determining machine failure or other performance metrics.\n",
        "\n",
        "Data Exploration: During the exploratory data analysis (EDA) process, examining the distribution and characteristics of each column can help identify potential outliers. The 'Torque [Nm]' column may have displayed significant variations or extreme values that warranted outlier investigation.\n",
        "\n",
        "Use Case: The analysis or prediction task associated with the dataset may focus on the 'Torque [Nm]' column, making it essential to address outliers in this specific column to ensure accurate modeling or analysis.\n",
        "\n"
      ]
    },
    {
      "cell_type": "code",
      "execution_count": null,
      "metadata": {
        "colab": {
          "base_uri": "https://localhost:8080/",
          "height": 561
        },
        "id": "i5jn7GGVoHW2",
        "outputId": "4bfe167f-69d9-4e3f-98f0-3f3eed7cc982"
      },
      "outputs": [
        {
          "output_type": "stream",
          "name": "stdout",
          "text": [
            "Outliers are present in the 'Torque [Nm]' column.\n",
            "Number of outliers: 69\n"
          ]
        },
        {
          "output_type": "display_data",
          "data": {
            "text/plain": [
              "<Figure size 800x600 with 1 Axes>"
            ],
            "image/png": "[encoded data removed]"
          },
          "metadata": {}
        }
      ],
      "source": [
        "\n",
        "\n",
        "# Calculate the IQR for the 'Torque [Nm]' column\n",
        "Q1 = data['Torque [Nm]'].quantile(0.25)\n",
        "Q3 = data['Torque [Nm]'].quantile(0.75)\n",
        "IQR = Q3 - Q1\n",
        "\n",
        "# Define the upper and lower bounds for outlier detection\n",
        "lower_bound = Q1 - 1.5 * IQR\n",
        "upper_bound = Q3 + 1.5 * IQR\n",
        "\n",
        "# Identify outliers in the 'Torque [Nm]' column\n",
        "outliers = data[(data['Torque [Nm]'] < lower_bound) | (data['Torque [Nm]'] > upper_bound)]\n",
        "\n",
        "# Check if outliers are present\n",
        "if outliers.empty:\n",
        "    print(\"No outliers are present in the 'Torque [Nm]' column.\")\n",
        "else:\n",
        "    print(\"Outliers are present in the 'Torque [Nm]' column.\")\n",
        "    print(\"Number of outliers:\", len(outliers))\n",
        "\n",
        "\n",
        "# Remove outliers from the dataset\n",
        "df = data[~((data['Torque [Nm]'] < lower_bound) | (data['Torque [Nm]'] > upper_bound))]\n",
        "\n",
        "# Create a box plot of the updated 'Torque [Nm]' column\n",
        "plt.figure(figsize=(8, 6))\n",
        "sns.boxplot(data=data, y='Torque [Nm]')\n",
        "plt.ylabel('Torque [Nm]')\n",
        "plt.title('Box Plot of Torque [Nm] (Outliers Removed)')\n",
        "plt.show()"
      ]
    },
    {
      "cell_type": "markdown",
      "metadata": {
        "id": "_cJwcmR9seqI"
      },
      "source": [
        "Interquartile Range (IQR): The box in the box plot represents the IQR, which is the range between the first quartile (Q1) and the third quartile (Q3). In this case, the IQR spans from approximately 30 to 50.\n",
        "\n",
        "Median: The line inside the box represents the median value of the 'Torque [Nm]' column. It is the middle value that divides the data into two equal halves. The exact position of the median within the box plot can provide information about the central tendency of the data.\n",
        "\n",
        "Whiskers: The whiskers in the box plot extend from the edges of the box to the data points that fall within the \"whisker\" range. Data points outside this range are considered outliers and are plotted individually as points or asterisks.\n",
        "\n",
        "Outliers: Since you mentioned that there are two horizontal rectangles within the range of 30 and 50, it suggests that the majority of the data points in the 'Torque [Nm]' column fall within this range. The absence of any individual points or asterisks outside the whiskers indicates that there are no apparent outliers.\n",
        "\n",
        "Based on this information, you can conclude that the 'Torque [Nm]' values in the dataset are primarily concentrated within the range of 30 to 50."
      ]
    },
    {
      "cell_type": "markdown",
      "metadata": {
        "id": "-FEKT8hdwzMj"
      },
      "source": [
        "# DESCRIPTIVE **ANALYSIS**"
      ]
    },
    {
      "cell_type": "code",
      "execution_count": null,
      "metadata": {
        "colab": {
          "base_uri": "https://localhost:8080/"
        },
        "id": "3ACqDezcstMM",
        "outputId": "a77d9c02-1faa-482e-f0d7-dedfc47bdded"
      },
      "outputs": [
        {
          "output_type": "stream",
          "name": "stdout",
          "text": [
            "0    9661\n",
            "1     339\n",
            "Name: Machine failure, dtype: int64\n"
          ]
        }
      ],
      "source": [
        "#Descriptive analysis\n",
        "\n",
        "# Calculate the frequency of each category in 'Machine failure'\n",
        "frequency = data['Machine failure'].value_counts()\n",
        "print(frequency)\n",
        "\n",
        "\n"
      ]
    },
    {
      "cell_type": "code",
      "execution_count": null,
      "metadata": {
        "colab": {
          "base_uri": "https://localhost:8080/"
        },
        "id": "REHJWFH6xJ4F",
        "outputId": "cbca7030-7fcc-4cba-d784-7d6d610ec1c3"
      },
      "outputs": [
        {
          "output_type": "stream",
          "name": "stdout",
          "text": [
            "Mean: 39.986909999999995\n",
            "Median: 40.1\n",
            "Mode: 40.2\n"
          ]
        }
      ],
      "source": [
        "# Calculate the mean, median, and mode of 'Torque [Nm]'\n",
        "mean = data['Torque [Nm]'].mean()\n",
        "median = data['Torque [Nm]'].median()\n",
        "mode = data['Torque [Nm]'].mode()[0]\n",
        "print(\"Mean:\", mean)\n",
        "print(\"Median:\", median)\n",
        "print(\"Mode:\", mode)\n",
        "\n"
      ]
    },
    {
      "cell_type": "code",
      "execution_count": null,
      "metadata": {
        "colab": {
          "base_uri": "https://localhost:8080/"
        },
        "id": "L-VloiqAxOfD",
        "outputId": "bb294f3b-3adc-47bd-caed-5d4a794f1b6d"
      },
      "outputs": [
        {
          "output_type": "stream",
          "name": "stdout",
          "text": [
            "Standard Deviation: 9.968933725121337\n",
            "Range: 72.8\n"
          ]
        }
      ],
      "source": [
        "# Calculate the standard deviation and range of 'Torque [Nm]'\n",
        "std_dev = data['Torque [Nm]'].std()\n",
        "data_range = data['Torque [Nm]'].max() - data['Torque [Nm]'].min()\n",
        "print(\"Standard Deviation:\", std_dev)\n",
        "print(\"Range:\", data_range)\n",
        "\n"
      ]
    },
    {
      "cell_type": "code",
      "execution_count": null,
      "metadata": {
        "colab": {
          "base_uri": "https://localhost:8080/"
        },
        "id": "Fzajsnb1xQ_0",
        "outputId": "87c804b1-096a-4201-f956-a74d90c56680"
      },
      "outputs": [
        {
          "output_type": "stream",
          "name": "stdout",
          "text": [
            "Q1: 33.2\n",
            "Q2 (Median): 40.1\n",
            "Q3: 46.8\n"
          ]
        }
      ],
      "source": [
        "# Calculate the quartiles of 'Torque [Nm]'\n",
        "quartiles = data['Torque [Nm]'].quantile([0.25, 0.5, 0.75])\n",
        "print(\"Q1:\", quartiles[0.25])\n",
        "print(\"Q2 (Median):\", quartiles[0.5])\n",
        "print(\"Q3:\", quartiles[0.75])\n",
        "\n"
      ]
    },
    {
      "cell_type": "code",
      "execution_count": null,
      "metadata": {
        "colab": {
          "base_uri": "https://localhost:8080/"
        },
        "id": "JPAJOdpcxTVb",
        "outputId": "b498837a-31d8-409d-baae-fc77121687e2"
      },
      "outputs": [
        {
          "output_type": "stream",
          "name": "stdout",
          "text": [
            "Machine failure     0    1\n",
            "Type                      \n",
            "H                 980   18\n",
            "L                5761  196\n",
            "M                2913   63\n"
          ]
        }
      ],
      "source": [
        "# Create a contingency table for 'Type' and 'Machine failure'\n",
        "contingency_table = pd.crosstab(df['Type'], data['Machine failure'])\n",
        "print(contingency_table)\n",
        "\n"
      ]
    },
    {
      "cell_type": "code",
      "execution_count": null,
      "metadata": {
        "colab": {
          "base_uri": "https://localhost:8080/",
          "height": 472
        },
        "id": "YQqPcmaHxVzr",
        "outputId": "f7bd3144-dbb5-4f4a-fc66-bc161a1fbfec"
      },
      "outputs": [
        {
          "output_type": "display_data",
          "data": {
            "text/plain": [
              "<Figure size 640x480 with 1 Axes>"
            ],
            "image/png": "[encoded data removed]"
          },
          "metadata": {}
        }
      ],
      "source": [
        "# Create a scatter plot of 'Air temperature [K]' vs. 'Process temperature [K]'\n",
        "plt.scatter(data['Air temperature [K]'], data['Process temperature [K]'])\n",
        "plt.xlabel('Air temperature [K]')\n",
        "plt.ylabel('Process temperature [K]')\n",
        "plt.title('Scatter Plot: Air temperature vs. Process temperature')\n",
        "plt.show()"
      ]
    },
    {
      "cell_type": "markdown",
      "metadata": {
        "id": "7pnnPC8DuBgd"
      },
      "source": [
        "Conclusion :\n",
        "Positive Correlation: If the points in the scatter plot tend to form a roughly upward-sloping pattern, it indicates a positive correlation between the two variables. This means that as the 'Air temperature [K]' increases, the 'Process temperature [K]' also tends to increase."
      ]
    },
    {
      "cell_type": "code",
      "execution_count": null,
      "metadata": {
        "colab": {
          "base_uri": "https://localhost:8080/"
        },
        "id": "lvOrh6dKrEes",
        "outputId": "d0f704ea-9eb4-49b5-c765-82fee0083dfa"
      },
      "outputs": [
        {
          "output_type": "execute_result",
          "data": {
            "text/plain": [
              "Index(['UDI', 'Product ID', 'Type', 'Air temperature [K]',\n",
              "       'Process temperature [K]', 'Rotational speed [rpm]', 'Torque [Nm]',\n",
              "       'Tool wear [min]', 'Machine failure', 'TWF', 'HDF', 'PWF', 'OSF',\n",
              "       'RNF'],\n",
              "      dtype='object')"
            ]
          },
          "metadata": {},
          "execution_count": 21
        }
      ],
      "source": [
        "df.columns"
      ]
    },
    {
      "cell_type": "code",
      "execution_count": null,
      "metadata": {
        "colab": {
          "base_uri": "https://localhost:8080/",
          "height": 267
        },
        "id": "ppCxvhMBtR3J",
        "outputId": "02e87698-e23f-49f4-d0b8-954a99d923e0"
      },
      "outputs": [
        {
          "output_type": "execute_result",
          "data": {
            "text/plain": [
              "   UDI Product ID Type  Air temperature [K]  Process temperature [K]  \\\n",
              "0    1     M14860    M                298.1                    308.6   \n",
              "1    2     L47181    L                298.2                    308.7   \n",
              "2    3     L47182    L                298.1                    308.5   \n",
              "3    4     L47183    L                298.2                    308.6   \n",
              "4    5     L47184    L                298.2                    308.7   \n",
              "\n",
              "   Rotational speed [rpm]  Torque [Nm]  Tool wear [min]  Machine failure  TWF  \\\n",
              "0                    1551         42.8                0                0    0   \n",
              "1                    1408         46.3                3                0    0   \n",
              "2                    1498         49.4                5                0    0   \n",
              "3                    1433         39.5                7                0    0   \n",
              "4                    1408         40.0                9                0    0   \n",
              "\n",
              "   HDF  PWF  OSF  RNF  \n",
              "0    0    0    0    0  \n",
              "1    0    0    0    0  \n",
              "2    0    0    0    0  \n",
              "3    0    0    0    0  \n",
              "4    0    0    0    0  "
            ],
            "text/html": [
              "\n",
              "  <div id=\"df-dbe12347-739f-4086-b944-1d2e2be27eef\">\n",
              "    <div class=\"colab-df-container\">\n",
              "      <div>\n",
              "<style scoped>\n",
              "    .dataframe tbody tr th:only-of-type {\n",
              "        vertical-align: middle;\n",
              "    }\n",
              "\n",
              "    .dataframe tbody tr th {\n",
              "        vertical-align: top;\n",
              "    }\n",
              "\n",
              "    .dataframe thead th {\n",
              "        text-align: right;\n",
              "    }\n",
              "</style>\n",
              "<table border=\"1\" class=\"dataframe\">\n",
              "  <thead>\n",
              "    <tr style=\"text-align: right;\">\n",
              "      <th></th>\n",
              "      <th>UDI</th>\n",
              "      <th>Product ID</th>\n",
              "      <th>Type</th>\n",
              "      <th>Air temperature [K]</th>\n",
              "      <th>Process temperature [K]</th>\n",
              "      <th>Rotational speed [rpm]</th>\n",
              "      <th>Torque [Nm]</th>\n",
              "      <th>Tool wear [min]</th>\n",
              "      <th>Machine failure</th>\n",
              "      <th>TWF</th>\n",
              "      <th>HDF</th>\n",
              "      <th>PWF</th>\n",
              "      <th>OSF</th>\n",
              "      <th>RNF</th>\n",
              "    </tr>\n",
              "  </thead>\n",
              "  <tbody>\n",
              "    <tr>\n",
              "      <th>0</th>\n",
              "      <td>1</td>\n",
              "      <td>M14860</td>\n",
              "      <td>M</td>\n",
              "      <td>298.1</td>\n",
              "      <td>308.6</td>\n",
              "      <td>1551</td>\n",
              "      <td>42.8</td>\n",
              "      <td>0</td>\n",
              "      <td>0</td>\n",
              "      <td>0</td>\n",
              "      <td>0</td>\n",
              "      <td>0</td>\n",
              "      <td>0</td>\n",
              "      <td>0</td>\n",
              "    </tr>\n",
              "    <tr>\n",
              "      <th>1</th>\n",
              "      <td>2</td>\n",
              "      <td>L47181</td>\n",
              "      <td>L</td>\n",
              "      <td>298.2</td>\n",
              "      <td>308.7</td>\n",
              "      <td>1408</td>\n",
              "      <td>46.3</td>\n",
              "      <td>3</td>\n",
              "      <td>0</td>\n",
              "      <td>0</td>\n",
              "      <td>0</td>\n",
              "      <td>0</td>\n",
              "      <td>0</td>\n",
              "      <td>0</td>\n",
              "    </tr>\n",
              "    <tr>\n",
              "      <th>2</th>\n",
              "      <td>3</td>\n",
              "      <td>L47182</td>\n",
              "      <td>L</td>\n",
              "      <td>298.1</td>\n",
              "      <td>308.5</td>\n",
              "      <td>1498</td>\n",
              "      <td>49.4</td>\n",
              "      <td>5</td>\n",
              "      <td>0</td>\n",
              "      <td>0</td>\n",
              "      <td>0</td>\n",
              "      <td>0</td>\n",
              "      <td>0</td>\n",
              "      <td>0</td>\n",
              "    </tr>\n",
              "    <tr>\n",
              "      <th>3</th>\n",
              "      <td>4</td>\n",
              "      <td>L47183</td>\n",
              "      <td>L</td>\n",
              "      <td>298.2</td>\n",
              "      <td>308.6</td>\n",
              "      <td>1433</td>\n",
              "      <td>39.5</td>\n",
              "      <td>7</td>\n",
              "      <td>0</td>\n",
              "      <td>0</td>\n",
              "      <td>0</td>\n",
              "      <td>0</td>\n",
              "      <td>0</td>\n",
              "      <td>0</td>\n",
              "    </tr>\n",
              "    <tr>\n",
              "      <th>4</th>\n",
              "      <td>5</td>\n",
              "      <td>L47184</td>\n",
              "      <td>L</td>\n",
              "      <td>298.2</td>\n",
              "      <td>308.7</td>\n",
              "      <td>1408</td>\n",
              "      <td>40.0</td>\n",
              "      <td>9</td>\n",
              "      <td>0</td>\n",
              "      <td>0</td>\n",
              "      <td>0</td>\n",
              "      <td>0</td>\n",
              "      <td>0</td>\n",
              "      <td>0</td>\n",
              "    </tr>\n",
              "  </tbody>\n",
              "</table>\n",
              "</div>\n",
              "      <button class=\"colab-df-convert\" onclick=\"convertToInteractive('df-dbe12347-739f-4086-b944-1d2e2be27eef')\"\n",
              "              title=\"Convert this dataframe to an interactive table.\"\n",
              "              style=\"display:none;\">\n",
              "        \n",
              "  <svg xmlns=\"http://www.w3.org/2000/svg\" height=\"24px\"viewBox=\"0 0 24 24\"\n",
              "       width=\"24px\">\n",
              "    <path d=\"M0 0h24v24H0V0z\" fill=\"none\"/>\n",
              "    <path d=\"M18.56 5.44l.94 2.06.94-2.06 2.06-.94-2.06-.94-.94-2.06-.94 2.06-2.06.94zm-11 1L8.5 8.5l.94-2.06 2.06-.94-2.06-.94L8.5 2.5l-.94 2.06-2.06.94zm10 10l.94 2.06.94-2.06 2.06-.94-2.06-.94-.94-2.06-.94 2.06-2.06.94z\"/><path d=\"M17.41 7.96l-1.37-1.37c-.4-.4-.92-.59-1.43-.59-.52 0-1.04.2-1.43.59L10.3 9.45l-7.72 7.72c-.78.78-.78 2.05 0 2.83L4 21.41c.39.39.9.59 1.41.59.51 0 1.02-.2 1.41-.59l7.78-7.78 2.81-2.81c.8-.78.8-2.07 0-2.86zM5.41 20L4 18.59l7.72-7.72 1.47 1.35L5.41 20z\"/>\n",
              "  </svg>\n",
              "      </button>\n",
              "      \n",
              "  <style>\n",
              "    .colab-df-container {\n",
              "      display:flex;\n",
              "      flex-wrap:wrap;\n",
              "      gap: 12px;\n",
              "    }\n",
              "\n",
              "    .colab-df-convert {\n",
              "      background-color: #E8F0FE;\n",
              "      border: none;\n",
              "      border-radius: 50%;\n",
              "      cursor: pointer;\n",
              "      display: none;\n",
              "      fill: #1967D2;\n",
              "      height: 32px;\n",
              "      padding: 0 0 0 0;\n",
              "      width: 32px;\n",
              "    }\n",
              "\n",
              "    .colab-df-convert:hover {\n",
              "      background-color: #E2EBFA;\n",
              "      box-shadow: 0px 1px 2px rgba(60, 64, 67, 0.3), 0px 1px 3px 1px rgba(60, 64, 67, 0.15);\n",
              "      fill: #174EA6;\n",
              "    }\n",
              "\n",
              "    [theme=dark] .colab-df-convert {\n",
              "      background-color: #3B4455;\n",
              "      fill: #D2E3FC;\n",
              "    }\n",
              "\n",
              "    [theme=dark] .colab-df-convert:hover {\n",
              "      background-color: #434B5C;\n",
              "      box-shadow: 0px 1px 3px 1px rgba(0, 0, 0, 0.15);\n",
              "      filter: drop-shadow(0px 1px 2px rgba(0, 0, 0, 0.3));\n",
              "      fill: #FFFFFF;\n",
              "    }\n",
              "  </style>\n",
              "\n",
              "      <script>\n",
              "        const buttonEl =\n",
              "          document.querySelector('#df-dbe12347-739f-4086-b944-1d2e2be27eef button.colab-df-convert');\n",
              "        buttonEl.style.display =\n",
              "          google.colab.kernel.accessAllowed ? 'block' : 'none';\n",
              "\n",
              "        async function convertToInteractive(key) {\n",
              "          const element = document.querySelector('#df-dbe12347-739f-4086-b944-1d2e2be27eef');\n",
              "          const dataTable =\n",
              "            await google.colab.kernel.invokeFunction('convertToInteractive',\n",
              "                                                     [key], {});\n",
              "          if (!dataTable) return;\n",
              "\n",
              "          const docLinkHtml = 'Like what you see? Visit the ' +\n",
              "            '<a target=\"_blank\" href=https://colab.research.google.com/notebooks/data_table.ipynb>data table notebook</a>'\n",
              "            + ' to learn more about interactive tables.';\n",
              "          element.innerHTML = '';\n",
              "          dataTable['output_type'] = 'display_data';\n",
              "          await google.colab.output.renderOutput(dataTable, element);\n",
              "          const docLink = document.createElement('div');\n",
              "          docLink.innerHTML = docLinkHtml;\n",
              "          element.appendChild(docLink);\n",
              "        }\n",
              "      </script>\n",
              "    </div>\n",
              "  </div>\n",
              "  "
            ]
          },
          "metadata": {},
          "execution_count": 22
        }
      ],
      "source": [
        "df.head()"
      ]
    },
    {
      "cell_type": "code",
      "execution_count": null,
      "metadata": {
        "id": "S0MeZLU_ry7N"
      },
      "outputs": [],
      "source": [
        "import pandas as pd\n",
        "from sklearn.linear_model import LinearRegression\n",
        "from sklearn.model_selection import train_test_split\n",
        "from sklearn.metrics import mean_squared_error"
      ]
    },
    {
      "cell_type": "markdown",
      "metadata": {
        "id": "CmV0kJzfxy3R"
      },
      "source": [
        "# DATA PREPROCESSING"
      ]
    },
    {
      "cell_type": "code",
      "execution_count": null,
      "metadata": {
        "id": "72lwpGn6x3YB"
      },
      "outputs": [],
      "source": [
        "#Drop the indices as these have no predictive power\n",
        "data.drop(['UDI','Product ID'],axis=1,inplace=True)"
      ]
    },
    {
      "cell_type": "code",
      "execution_count": null,
      "metadata": {
        "id": "vLuz7rPpyB-y"
      },
      "outputs": [],
      "source": [
        "#Drop the failure modes, as we're only interested whether something is a failure.\n",
        "data.drop(['TWF','HDF','PWF','OSF','RNF'],axis=1,inplace=True)"
      ]
    },
    {
      "cell_type": "code",
      "execution_count": null,
      "metadata": {
        "colab": {
          "base_uri": "https://localhost:8080/"
        },
        "id": "EVF1zKuNyOOQ",
        "outputId": "8f25e332-67e4-481a-d7e6-5efc95bc5836"
      },
      "outputs": [
        {
          "output_type": "stream",
          "name": "stderr",
          "text": [
            "<ipython-input-26-d6a7a9d9c4da>:2: SettingWithCopyWarning: \n",
            "A value is trying to be set on a copy of a slice from a DataFrame\n",
            "\n",
            "See the caveats in the documentation: https://pandas.pydata.org/pandas-docs/stable/user_guide/indexing.html#returning-a-view-versus-a-copy\n",
            "  df.drop(['Type'],axis=1,inplace=True)\n"
          ]
        }
      ],
      "source": [
        "#Drop the type, as this dominates too strongly on type = L.\n",
        "df.drop(['Type'],axis=1,inplace=True)"
      ]
    },
    {
      "cell_type": "code",
      "execution_count": null,
      "metadata": {
        "colab": {
          "base_uri": "https://localhost:8080/"
        },
        "id": "ontwJLj9ySmL",
        "outputId": "c4c297b4-351f-47d5-883d-6e9e2eacda48"
      },
      "outputs": [
        {
          "output_type": "execute_result",
          "data": {
            "text/plain": [
              "['Type',\n",
              " 'Air temperature [K]',\n",
              " 'Process temperature [K]',\n",
              " 'Rotational speed [rpm]',\n",
              " 'Torque [Nm]',\n",
              " 'Tool wear [min]',\n",
              " 'Machine failure']"
            ]
          },
          "metadata": {},
          "execution_count": 27
        }
      ],
      "source": [
        "#Remaining Features\n",
        "list(data)"
      ]
    },
    {
      "cell_type": "code",
      "execution_count": null,
      "metadata": {
        "colab": {
          "base_uri": "https://localhost:8080/"
        },
        "id": "wBYgMVXLyZOh",
        "outputId": "5b42cd50-0f54-4c54-9ddf-e63a2bd6d218"
      },
      "outputs": [
        {
          "output_type": "stream",
          "name": "stdout",
          "text": [
            "Air temperature [K] - 0\n",
            "Process temperature [K] - 0\n",
            "Rotational speed [rpm] - 0\n",
            "Torque [Nm] - 0\n",
            "Tool wear [min] - 0\n",
            "Machine failure - 0\n",
            "Type_L - 0\n",
            "Type_M - 0\n"
          ]
        }
      ],
      "source": [
        "#Convert categorical to numeric\n",
        "data = pd.get_dummies(data,drop_first=True)\n",
        "features = list(data.columns)\n",
        "for feature in features:\n",
        "    print(feature + \" - \" + str(len(data[data[feature].isna()])))"
      ]
    },
    {
      "cell_type": "code",
      "execution_count": null,
      "metadata": {
        "colab": {
          "base_uri": "https://localhost:8080/",
          "height": 143
        },
        "id": "OduFxZwoyqYh",
        "outputId": "b6ef9030-189e-461b-ede1-4ae503e51c34"
      },
      "outputs": [
        {
          "output_type": "execute_result",
          "data": {
            "text/plain": [
              "                 Air temperature [K]  Process temperature [K]  \\\n",
              "Machine failure                                                 \n",
              "0                               9661                     9661   \n",
              "1                                339                      339   \n",
              "\n",
              "                 Rotational speed [rpm]  Torque [Nm]  Tool wear [min]  Type_L  \\\n",
              "Machine failure                                                                 \n",
              "0                                  9661         9661             9661    9661   \n",
              "1                                   339          339              339     339   \n",
              "\n",
              "                 Type_M  \n",
              "Machine failure          \n",
              "0                  9661  \n",
              "1                   339  "
            ],
            "text/html": [
              "\n",
              "  <div id=\"df-084b8bbf-fac4-4edc-8473-396dc597e3f7\">\n",
              "    <div class=\"colab-df-container\">\n",
              "      <div>\n",
              "<style scoped>\n",
              "    .dataframe tbody tr th:only-of-type {\n",
              "        vertical-align: middle;\n",
              "    }\n",
              "\n",
              "    .dataframe tbody tr th {\n",
              "        vertical-align: top;\n",
              "    }\n",
              "\n",
              "    .dataframe thead th {\n",
              "        text-align: right;\n",
              "    }\n",
              "</style>\n",
              "<table border=\"1\" class=\"dataframe\">\n",
              "  <thead>\n",
              "    <tr style=\"text-align: right;\">\n",
              "      <th></th>\n",
              "      <th>Air temperature [K]</th>\n",
              "      <th>Process temperature [K]</th>\n",
              "      <th>Rotational speed [rpm]</th>\n",
              "      <th>Torque [Nm]</th>\n",
              "      <th>Tool wear [min]</th>\n",
              "      <th>Type_L</th>\n",
              "      <th>Type_M</th>\n",
              "    </tr>\n",
              "    <tr>\n",
              "      <th>Machine failure</th>\n",
              "      <th></th>\n",
              "      <th></th>\n",
              "      <th></th>\n",
              "      <th></th>\n",
              "      <th></th>\n",
              "      <th></th>\n",
              "      <th></th>\n",
              "    </tr>\n",
              "  </thead>\n",
              "  <tbody>\n",
              "    <tr>\n",
              "      <th>0</th>\n",
              "      <td>9661</td>\n",
              "      <td>9661</td>\n",
              "      <td>9661</td>\n",
              "      <td>9661</td>\n",
              "      <td>9661</td>\n",
              "      <td>9661</td>\n",
              "      <td>9661</td>\n",
              "    </tr>\n",
              "    <tr>\n",
              "      <th>1</th>\n",
              "      <td>339</td>\n",
              "      <td>339</td>\n",
              "      <td>339</td>\n",
              "      <td>339</td>\n",
              "      <td>339</td>\n",
              "      <td>339</td>\n",
              "      <td>339</td>\n",
              "    </tr>\n",
              "  </tbody>\n",
              "</table>\n",
              "</div>\n",
              "      <button class=\"colab-df-convert\" onclick=\"convertToInteractive('df-084b8bbf-fac4-4edc-8473-396dc597e3f7')\"\n",
              "              title=\"Convert this dataframe to an interactive table.\"\n",
              "              style=\"display:none;\">\n",
              "        \n",
              "  <svg xmlns=\"http://www.w3.org/2000/svg\" height=\"24px\"viewBox=\"0 0 24 24\"\n",
              "       width=\"24px\">\n",
              "    <path d=\"M0 0h24v24H0V0z\" fill=\"none\"/>\n",
              "    <path d=\"M18.56 5.44l.94 2.06.94-2.06 2.06-.94-2.06-.94-.94-2.06-.94 2.06-2.06.94zm-11 1L8.5 8.5l.94-2.06 2.06-.94-2.06-.94L8.5 2.5l-.94 2.06-2.06.94zm10 10l.94 2.06.94-2.06 2.06-.94-2.06-.94-.94-2.06-.94 2.06-2.06.94z\"/><path d=\"M17.41 7.96l-1.37-1.37c-.4-.4-.92-.59-1.43-.59-.52 0-1.04.2-1.43.59L10.3 9.45l-7.72 7.72c-.78.78-.78 2.05 0 2.83L4 21.41c.39.39.9.59 1.41.59.51 0 1.02-.2 1.41-.59l7.78-7.78 2.81-2.81c.8-.78.8-2.07 0-2.86zM5.41 20L4 18.59l7.72-7.72 1.47 1.35L5.41 20z\"/>\n",
              "  </svg>\n",
              "      </button>\n",
              "      \n",
              "  <style>\n",
              "    .colab-df-container {\n",
              "      display:flex;\n",
              "      flex-wrap:wrap;\n",
              "      gap: 12px;\n",
              "    }\n",
              "\n",
              "    .colab-df-convert {\n",
              "      background-color: #E8F0FE;\n",
              "      border: none;\n",
              "      border-radius: 50%;\n",
              "      cursor: pointer;\n",
              "      display: none;\n",
              "      fill: #1967D2;\n",
              "      height: 32px;\n",
              "      padding: 0 0 0 0;\n",
              "      width: 32px;\n",
              "    }\n",
              "\n",
              "    .colab-df-convert:hover {\n",
              "      background-color: #E2EBFA;\n",
              "      box-shadow: 0px 1px 2px rgba(60, 64, 67, 0.3), 0px 1px 3px 1px rgba(60, 64, 67, 0.15);\n",
              "      fill: #174EA6;\n",
              "    }\n",
              "\n",
              "    [theme=dark] .colab-df-convert {\n",
              "      background-color: #3B4455;\n",
              "      fill: #D2E3FC;\n",
              "    }\n",
              "\n",
              "    [theme=dark] .colab-df-convert:hover {\n",
              "      background-color: #434B5C;\n",
              "      box-shadow: 0px 1px 3px 1px rgba(0, 0, 0, 0.15);\n",
              "      filter: drop-shadow(0px 1px 2px rgba(0, 0, 0, 0.3));\n",
              "      fill: #FFFFFF;\n",
              "    }\n",
              "  </style>\n",
              "\n",
              "      <script>\n",
              "        const buttonEl =\n",
              "          document.querySelector('#df-084b8bbf-fac4-4edc-8473-396dc597e3f7 button.colab-df-convert');\n",
              "        buttonEl.style.display =\n",
              "          google.colab.kernel.accessAllowed ? 'block' : 'none';\n",
              "\n",
              "        async function convertToInteractive(key) {\n",
              "          const element = document.querySelector('#df-084b8bbf-fac4-4edc-8473-396dc597e3f7');\n",
              "          const dataTable =\n",
              "            await google.colab.kernel.invokeFunction('convertToInteractive',\n",
              "                                                     [key], {});\n",
              "          if (!dataTable) return;\n",
              "\n",
              "          const docLinkHtml = 'Like what you see? Visit the ' +\n",
              "            '<a target=\"_blank\" href=https://colab.research.google.com/notebooks/data_table.ipynb>data table notebook</a>'\n",
              "            + ' to learn more about interactive tables.';\n",
              "          element.innerHTML = '';\n",
              "          dataTable['output_type'] = 'display_data';\n",
              "          await google.colab.output.renderOutput(dataTable, element);\n",
              "          const docLink = document.createElement('div');\n",
              "          docLink.innerHTML = docLinkHtml;\n",
              "          element.appendChild(docLink);\n",
              "        }\n",
              "      </script>\n",
              "    </div>\n",
              "  </div>\n",
              "  "
            ]
          },
          "metadata": {},
          "execution_count": 29
        }
      ],
      "source": [
        "df_group = data.groupby(['Machine failure'])\n",
        "df_group.count()"
      ]
    },
    {
      "cell_type": "code",
      "execution_count": null,
      "metadata": {
        "id": "cQECldCJywYA"
      },
      "outputs": [],
      "source": [
        "#Replacing missing numeric values into mean\n",
        "# show the numeric characters\n",
        "df_numeric = data.select_dtypes(include=[np.number])\n",
        "df_numeric.describe(include='all').T\n",
        "df_numeric.fillna(df_numeric.mean(),inplace=True)\n",
        "\n",
        "for feature in features:\n",
        "    try:\n",
        "        data[feature].fillna(data[feature].mean(),inplace=True)\n",
        "    except:\n",
        "        try:\n",
        "            data[feature].fillna(data[feature].mode(),inplace=True)\n",
        "        except:\n",
        "            pass"
      ]
    },
    {
      "cell_type": "code",
      "execution_count": null,
      "metadata": {
        "colab": {
          "background_save": true
        },
        "id": "pm9mUO9IzNE_"
      },
      "outputs": [],
      "source": [
        "data.describe(include='all').T"
      ]
    },
    {
      "cell_type": "markdown",
      "metadata": {
        "id": "-8PGOmFi84w2"
      },
      "source": [
        "# FEATURE **ENGINEERING**"
      ]
    },
    {
      "cell_type": "markdown",
      "metadata": {
        "id": "WJ0j365nDWtL"
      },
      "source": [
        "Feature engineering involves creating new features or transforming existing ones to improve the performance of machine learning models or gain better insights from the data."
      ]
    },
    {
      "cell_type": "code",
      "execution_count": null,
      "metadata": {
        "id": "gNdCy60a88Gs"
      },
      "outputs": [],
      "source": [
        "data['Air temperature [K]'] = data['Air temperature [K]'] - 273.15\n",
        "data= data.rename(columns={'Air temperature [K]': 'Air temperature [°C]'})\n",
        "data['Process temperature [K]'] = data['Process temperature [K]'] - 273.15\n",
        "data = data.rename(columns={'Process temperature [K]': 'Process temperature [°C]'})"
      ]
    },
    {
      "cell_type": "markdown",
      "metadata": {
        "id": "3Q5FUWqRDeNB"
      },
      "source": [
        "Temperature Conversion: The code converts the temperature columns from Kelvin to Celsius. It subtracts 273.15 from the 'Air temperature [K]' column and renames it to 'Air temperature [°C]'. Similarly, it subtracts 273.15 from the 'Process temperature [K]' column and renames it to 'Process temperature [°C]'. This conversion makes the temperature values more interpretable and consistent with common temperature scales."
      ]
    },
    {
      "cell_type": "code",
      "execution_count": null,
      "metadata": {
        "id": "JlWSLj8Q9HtP"
      },
      "outputs": [],
      "source": [
        "data['Power']=data['Rotational speed [rpm]']*data['Torque [Nm]']"
      ]
    },
    {
      "cell_type": "markdown",
      "metadata": {
        "id": "T52H5g0lDi76"
      },
      "source": [
        "Power Calculation: The code calculates a new feature called 'Power' by multiplying the 'Rotational speed [rpm]' column with the 'Torque [Nm]' column. This represents the power generated by a machine based on its rotational speed and torque. Power can be an important factor in understanding the performance and behavior of the machine."
      ]
    },
    {
      "cell_type": "code",
      "execution_count": null,
      "metadata": {
        "id": "dmAIV4CW9MJm"
      },
      "outputs": [],
      "source": [
        "data['Temperature difference [°C]'] = data['Process temperature [°C]']-data['Air temperature [°C]']"
      ]
    },
    {
      "cell_type": "markdown",
      "metadata": {
        "id": "LjqxthtkDnAb"
      },
      "source": [
        "Temperature Difference Calculation: The code creates another new feature called 'Temperature difference [°C]' by subtracting the 'Air temperature [°C]' from the 'Process temperature [°C]'. This feature represents the temperature difference between the air temperature and the process temperature, which can be useful in analyzing the effect of temperature on the machine's performance."
      ]
    },
    {
      "cell_type": "code",
      "execution_count": null,
      "metadata": {
        "id": "DVXtIxir9SSl"
      },
      "outputs": [],
      "source": [
        "data['Temperature power [°C]'] = data['Temperature difference [°C]']/data['Power']"
      ]
    },
    {
      "cell_type": "markdown",
      "metadata": {
        "id": "HO2w6hGLDwcj"
      },
      "source": [
        "Temperature Power Calculation: The code computes the 'Temperature power [°C]' feature by dividing the 'Temperature difference [°C]' by the 'Power'. This feature measures the temperature difference per unit of power, indicating the efficiency or impact of temperature on the machine's power output."
      ]
    },
    {
      "cell_type": "code",
      "execution_count": null,
      "metadata": {
        "id": "o-zfB5kO9Vm1"
      },
      "outputs": [],
      "source": [
        "data = data[['Air temperature [°C]',\n",
        "         'Process temperature [°C]',\n",
        "         'Rotational speed [rpm]',\n",
        "         'Torque [Nm]',\n",
        "         'Tool wear [min]',\n",
        "         'Power',\n",
        "         'Temperature difference [°C]',\n",
        "         'Temperature power [°C]',\n",
        "         'Machine failure',\n",
        "\n",
        "        ]]"
      ]
    },
    {
      "cell_type": "code",
      "execution_count": null,
      "metadata": {
        "colab": {
          "background_save": true
        },
        "id": "tY-svB8j9fbX"
      },
      "outputs": [],
      "source": [
        "data.head()"
      ]
    },
    {
      "cell_type": "markdown",
      "metadata": {
        "id": "BspOzQOAzSCp"
      },
      "source": [
        "# **FEATURE SELECTION**"
      ]
    },
    {
      "cell_type": "markdown",
      "metadata": {
        "id": "_Q1hI2m-D5Wo"
      },
      "source": [
        " feature selection using the chi-squared test for feature importance. It selects the best features from the dataset based on their scores and visualizes the top 20 features using a horizontal bar chart."
      ]
    },
    {
      "cell_type": "code",
      "execution_count": null,
      "metadata": {
        "id": "wBDHaLPAzPRP"
      },
      "outputs": [],
      "source": [
        "from sklearn.feature_selection import SelectKBest, chi2\n",
        "import plotly.graph_objects as go"
      ]
    },
    {
      "cell_type": "code",
      "execution_count": null,
      "metadata": {
        "id": "8fzeSBHxzaRg"
      },
      "outputs": [],
      "source": [
        "best_features = SelectKBest(score_func=chi2,k='all')\n",
        "\n",
        "X = data.iloc[:,:-1]\n",
        "y = data.iloc[:,-1]\n",
        "fit = best_features.fit(X,y)\n",
        "\n",
        "df_scores=pd.DataFrame(fit.scores_)\n",
        "df_col=pd.DataFrame(X.columns)\n",
        "\n",
        "feature_score=pd.concat([df_col,df_scores],axis=1)\n",
        "feature_score.columns=['feature','score']\n",
        "feature_score.sort_values(by=['score'],ascending=True,inplace=True)\n",
        "\n"
      ]
    },
    {
      "cell_type": "markdown",
      "metadata": {
        "id": "jIcOm8MUEMvB"
      },
      "source": [
        "It specifies the x-axis as the scores of the top 20 features and the y-axis as their corresponding feature names. The chart is stored in the fig object."
      ]
    },
    {
      "cell_type": "code",
      "execution_count": null,
      "metadata": {
        "id": "ZNc6iBWAz_1h"
      },
      "outputs": [],
      "source": [
        "Selected_Features = []\n",
        "import statsmodels.api as sm"
      ]
    },
    {
      "cell_type": "markdown",
      "metadata": {
        "id": "gXmiJNneE3qa"
      },
      "source": [
        "Backward stepwise regression for feature selection. It iteratively removes the least significant features based on their p-values until no further feature can be dropped. The function takes the following arguments:\n",
        "\n",
        "X: The feature values (a pandas DataFrame).\n",
        "\n",
        "y: The target variable (a pandas Series or DataFrame).\n",
        "\n",
        "initial_list (optional): A list of initial features to consider (default is an empty list).\n",
        "\n",
        "threshold_out (optional): The p-value threshold for dropping features (default is 0.5).\n",
        "\n",
        "verbose (optional): A boolean flag to enable/disable logging output (default is True)."
      ]
    },
    {
      "cell_type": "code",
      "execution_count": null,
      "metadata": {
        "colab": {
          "base_uri": "https://localhost:8080/"
        },
        "id": "vqyy1Zdf0D0a",
        "outputId": "da612587-cbd3-4842-ce6a-88e63989b8ba"
      },
      "outputs": [
        {
          "output_type": "stream",
          "name": "stdout",
          "text": [
            "\n",
            "Selected Features:\n",
            "['Air temperature [°C]', 'Process temperature [°C]', 'Rotational speed [rpm]', 'Torque [Nm]', 'Tool wear [min]', 'Power', 'Temperature difference [°C]', 'Temperature power [°C]']\n"
          ]
        }
      ],
      "source": [
        "def backward_regression(X, y, initial_list=[], threshold_out=0.5, verbose=True):\n",
        "    \"\"\"To select feature with Backward Stepwise Regression\n",
        "\n",
        "    Args:\n",
        "        X -- features values\n",
        "        y -- target variable\n",
        "        initial_list -- features header\n",
        "        threshold_out -- pvalue threshold of features to drop\n",
        "        verbose -- true to produce lots of logging output\n",
        "\n",
        "    Returns:\n",
        "        list of selected features for modeling\n",
        "    \"\"\"\n",
        "    included = list(X.columns)\n",
        "    while True:\n",
        "        changed = False\n",
        "        model = sm.OLS(y, sm.add_constant(pd.DataFrame(X[included]))).fit()\n",
        "        # use all coefs except intercept\n",
        "        pvalues = model.pvalues.iloc[1:]\n",
        "        worst_pval = pvalues.max()  # null if pvalues is empty\n",
        "        if worst_pval > threshold_out:\n",
        "            changed = True\n",
        "            worst_feature = pvalues.idxmax()\n",
        "            included.remove(worst_feature)\n",
        "            if verbose:\n",
        "                print(f\"worst_feature : {worst_feature}, {worst_pval} \")\n",
        "        if not changed:\n",
        "            break\n",
        "    Selected_Features.append(included)\n",
        "    print(f\"\\nSelected Features:\\n{Selected_Features[0]}\")\n",
        "\n",
        "\n",
        "# Application of the backward regression function on our training data\n",
        "backward_regression(X, y)"
      ]
    },
    {
      "cell_type": "markdown",
      "metadata": {
        "id": "hHG5gug00n74"
      },
      "source": [
        "# **MODEL**"
      ]
    },
    {
      "cell_type": "code",
      "execution_count": null,
      "metadata": {
        "id": "54HybwNh0gwh"
      },
      "outputs": [],
      "source": [
        "from sklearn.model_selection import train_test_split\n",
        "X_train, X_test, y_train, y_test = train_test_split(X, y,\n",
        "                                                    test_size = 0.2,\n",
        "                                                    random_state = 0,\n",
        "                                                    stratify=y)\n",
        "# X_train,y_train = oversamp.fit_resample(X_train, y_train)"
      ]
    },
    {
      "cell_type": "code",
      "execution_count": null,
      "metadata": {
        "id": "T_E9Dqnf0rQl"
      },
      "outputs": [],
      "source": [
        "from sklearn.preprocessing import MinMaxScaler\n",
        "sc = MinMaxScaler()\n",
        "X_train = sc.fit_transform(X_train)\n",
        "X_test = sc.transform(X_test)"
      ]
    },
    {
      "cell_type": "markdown",
      "metadata": {
        "id": "3m67omEK1S4F"
      },
      "source": [
        "# LINEAR **REGRESSION**"
      ]
    },
    {
      "cell_type": "code",
      "execution_count": null,
      "metadata": {
        "colab": {
          "base_uri": "https://localhost:8080/"
        },
        "id": "e_ZSx9fO1XxB",
        "outputId": "c8ecc0bb-870a-4459-903c-9f46bd2825d7"
      },
      "outputs": [
        {
          "output_type": "stream",
          "name": "stdout",
          "text": [
            "Mean Squared Error: 0.026490306659830425\n"
          ]
        }
      ],
      "source": [
        "#Manually\n",
        "import numpy as np\n",
        "\n",
        "# Standardize the data\n",
        "X_train_std = (X_train - np.mean(X_train)) / np.std(X_train)\n",
        "y_train_std = (y_train - np.mean(y_train)) / np.std(y_train)\n",
        "\n",
        "# Add a column of ones to the feature matrix\n",
        "X_train_std = np.column_stack((np.ones(len(X_train_std)), X_train_std))\n",
        "\n",
        "# Calculate the weights using the normal equation\n",
        "weights = np.linalg.inv(X_train_std.T @ X_train_std) @ X_train_std.T @ y_train_std\n",
        "\n",
        "# Standardize the test data\n",
        "X_test_std = (X_test - np.mean(X_test)) / np.std(X_test)\n",
        "\n",
        "# Add a column of ones to the test data\n",
        "X_test_std = np.column_stack((np.ones(len(X_test_std)), X_test_std))\n",
        "\n",
        "# Predict the target variable for the test data\n",
        "y_pred_manual = X_test_std @ weights\n",
        "\n",
        "# Denormalize the predicted target variable\n",
        "y_pred = (y_pred_manual * np.std(y_train)) + np.mean(y_train)\n",
        "\n",
        "# Calculate the mean squared error\n",
        "mse = mean_squared_error(y_test, y_pred)\n",
        "print(\"Mean Squared Error:\", mse)\n"
      ]
    },
    {
      "cell_type": "code",
      "execution_count": null,
      "metadata": {
        "colab": {
          "background_save": true
        },
        "id": "yPdnDD0WaBAN"
      },
      "outputs": [],
      "source": [
        "# Split the data into training and testing sets\n",
        "X_train, X_test, y_train, y_test = train_test_split(X, y, test_size=0.2, random_state=42)\n",
        "\n",
        "# Create the linear regression model\n",
        "model = LinearRegression()\n",
        "\n",
        "# Train the model\n",
        "model.fit(X_train, y_train)\n",
        "\n",
        "# Predict on the test set\n",
        "y_pred = model.predict(X_test)\n",
        "\n",
        "# Evaluate the model\n",
        "mse = mean_squared_error(y_test, y_pred)\n",
        "print(\"Mean Squared Error:\", mse)"
      ]
    },
    {
      "cell_type": "code",
      "execution_count": null,
      "metadata": {
        "id": "lMHqmGg60LpN"
      },
      "outputs": [],
      "source": [
        "selected_Features=['Air temperature [K]', 'Process temperature [K]', 'Rotational speed [rpm]', 'Torque [Nm]', 'Tool wear [min]']\n"
      ]
    },
    {
      "cell_type": "code",
      "execution_count": null,
      "metadata": {
        "colab": {
          "base_uri": "https://localhost:8080/",
          "height": 235
        },
        "id": "J1ZUoxap1v-m",
        "outputId": "ed4980c7-ecbf-4b80-a701-27e19a1d654e"
      },
      "outputs": [
        {
          "output_type": "error",
          "ename": "NameError",
          "evalue": "ignored",
          "traceback": [
            "\u001b[0;31m---------------------------------------------------------------------------\u001b[0m",
            "\u001b[0;31mNameError\u001b[0m                                 Traceback (most recent call last)",
            "\u001b[0;32m<ipython-input-44-ff620ba5a123>\u001b[0m in \u001b[0;36m<cell line: 4>\u001b[0;34m()\u001b[0m\n\u001b[1;32m      2\u001b[0m \u001b[0;34m\u001b[0m\u001b[0m\n\u001b[1;32m      3\u001b[0m \u001b[0;31m# Make predictions on the new data\u001b[0m\u001b[0;34m\u001b[0m\u001b[0;34m\u001b[0m\u001b[0m\n\u001b[0;32m----> 4\u001b[0;31m \u001b[0mpredictions\u001b[0m \u001b[0;34m=\u001b[0m \u001b[0mmodel\u001b[0m\u001b[0;34m.\u001b[0m\u001b[0mpredict\u001b[0m\u001b[0;34m(\u001b[0m\u001b[0mnew_data\u001b[0m\u001b[0;34m)\u001b[0m\u001b[0;34m\u001b[0m\u001b[0;34m\u001b[0m\u001b[0m\n\u001b[0m\u001b[1;32m      5\u001b[0m \u001b[0;34m\u001b[0m\u001b[0m\n\u001b[1;32m      6\u001b[0m \u001b[0;31m# Print the predictions\u001b[0m\u001b[0;34m\u001b[0m\u001b[0;34m\u001b[0m\u001b[0m\n",
            "\u001b[0;31mNameError\u001b[0m: name 'model' is not defined"
          ]
        }
      ],
      "source": [
        "new_data = pd.DataFrame([[298.5, 310.2, 1600, 45.2, 10]], columns=selected_Features)  # Replace with your own data values\n",
        "\n",
        "# Make predictions on the new data\n",
        "predictions = model.predict(new_data)\n",
        "\n",
        "# Print the predictions\n",
        "print(\"Predicted Machine Failure:\")\n",
        "print(predictions)"
      ]
    },
    {
      "cell_type": "code",
      "execution_count": null,
      "metadata": {
        "colab": {
          "background_save": true
        },
        "id": "ItDr8asA2mxr"
      },
      "outputs": [],
      "source": [
        "threshold = 0.5  # Set the threshold value\n",
        "\n",
        "if predictions[0] >= threshold:\n",
        "    print(\"Machine Failure: YES\")\n",
        "else:\n",
        "    print(\"Machine Failure: NO\")\n"
      ]
    },
    {
      "cell_type": "markdown",
      "metadata": {
        "id": "nyYJJyxF2ro-"
      },
      "source": [
        "In this code, threshold is set to 0.5 as an example threshold value. If the predicted probability (predictions[0]) is greater than or equal to the threshold, it is classified as a machine failure, and the output will be \"Machine Failure: YES\". Otherwise, if the predicted probability is below the threshold, it is classified as not failing, and the output will be \"Machine Failure: NO\"."
      ]
    },
    {
      "cell_type": "code",
      "execution_count": null,
      "metadata": {
        "colab": {
          "background_save": true
        },
        "id": "4ptphyXa2tnc"
      },
      "outputs": [],
      "source": [
        "from sklearn.metrics import accuracy_score\n",
        "\n",
        "actual_labels = [0]  # Replace [0] with the actual target values for the new data\n",
        "\n",
        "# Convert the predicted probabilities to binary labels based on the threshold\n",
        "predicted_labels = [1 if pred >= threshold else 0 for pred in predictions]\n",
        "\n",
        "# Calculate the accuracy\n",
        "accuracy = accuracy_score(actual_labels, predicted_labels)\n",
        "\n",
        "print(\"Accuracy:\", accuracy)\n"
      ]
    },
    {
      "cell_type": "code",
      "execution_count": null,
      "metadata": {
        "colab": {
          "base_uri": "https://localhost:8080/"
        },
        "id": "ye4eDOzhWpQA",
        "outputId": "69de77be-98f8-4bd3-e537-5b22345b93ac"
      },
      "outputs": [
        {
          "output_type": "stream",
          "name": "stdout",
          "text": [
            "Collecting gradio\n",
            "  Downloading gradio-3.35.2-py3-none-any.whl (19.7 MB)\n",
            "\u001b[2K     \u001b[90m━━━━━━━━━━━━━━━━━━━━━━━━━━━━━━━━━━━━━━━━\u001b[0m \u001b[32m19.7/19.7 MB\u001b[0m \u001b[31m73.0 MB/s\u001b[0m eta \u001b[36m0:00:00\u001b[0m\n",
            "\u001b[?25hCollecting aiofiles (from gradio)\n",
            "  Downloading aiofiles-23.1.0-py3-none-any.whl (14 kB)\n",
            "Requirement already satisfied: aiohttp in /usr/local/lib/python3.10/dist-packages (from gradio) (3.8.4)\n",
            "Requirement already satisfied: altair>=4.2.0 in /usr/local/lib/python3.10/dist-packages (from gradio) (4.2.2)\n",
            "Collecting fastapi (from gradio)\n",
            "  Downloading fastapi-0.98.0-py3-none-any.whl (56 kB)\n",
            "\u001b[2K     \u001b[90m━━━━━━━━━━━━━━━━━━━━━━━━━━━━━━━━━━━━━━━━\u001b[0m \u001b[32m57.0/57.0 kB\u001b[0m \u001b[31m7.6 MB/s\u001b[0m eta \u001b[36m0:00:00\u001b[0m\n",
            "\u001b[?25hCollecting ffmpy (from gradio)\n",
            "  Downloading ffmpy-0.3.0.tar.gz (4.8 kB)\n",
            "  Preparing metadata (setup.py) ... \u001b[?25l\u001b[?25hdone\n",
            "Collecting gradio-client>=0.2.7 (from gradio)\n",
            "  Downloading gradio_client-0.2.7-py3-none-any.whl (288 kB)\n",
            "\u001b[2K     \u001b[90m━━━━━━━━━━━━━━━━━━━━━━━━━━━━━━━━━━━━━━\u001b[0m \u001b[32m288.4/288.4 kB\u001b[0m \u001b[31m35.0 MB/s\u001b[0m eta \u001b[36m0:00:00\u001b[0m\n",
            "\u001b[?25hCollecting httpx (from gradio)\n",
            "  Downloading httpx-0.24.1-py3-none-any.whl (75 kB)\n",
            "\u001b[2K     \u001b[90m━━━━━━━━━━━━━━━━━━━━━━━━━━━━━━━━━━━━━━━━\u001b[0m \u001b[32m75.4/75.4 kB\u001b[0m \u001b[31m10.7 MB/s\u001b[0m eta \u001b[36m0:00:00\u001b[0m\n",
            "\u001b[?25hCollecting huggingface-hub>=0.14.0 (from gradio)\n",
            "  Downloading huggingface_hub-0.15.1-py3-none-any.whl (236 kB)\n",
            "\u001b[2K     \u001b[90m━━━━━━━━━━━━━━━━━━━━━━━━━━━━━━━━━━━━━━\u001b[0m \u001b[32m236.8/236.8 kB\u001b[0m \u001b[31m24.4 MB/s\u001b[0m eta \u001b[36m0:00:00\u001b[0m\n",
            "\u001b[?25hRequirement already satisfied: jinja2 in /usr/local/lib/python3.10/dist-packages (from gradio) (3.1.2)\n",
            "Requirement already satisfied: markdown-it-py[linkify]>=2.0.0 in /usr/local/lib/python3.10/dist-packages (from gradio) (3.0.0)\n",
            "Requirement already satisfied: markupsafe in /usr/local/lib/python3.10/dist-packages (from gradio) (2.1.3)\n",
            "Requirement already satisfied: matplotlib in /usr/local/lib/python3.10/dist-packages (from gradio) (3.7.1)\n",
            "Collecting mdit-py-plugins<=0.3.3 (from gradio)\n",
            "  Downloading mdit_py_plugins-0.3.3-py3-none-any.whl (50 kB)\n",
            "\u001b[2K     \u001b[90m━━━━━━━━━━━━━━━━━━━━━━━━━━━━━━━━━━━━━━━━\u001b[0m \u001b[32m50.5/50.5 kB\u001b[0m \u001b[31m6.9 MB/s\u001b[0m eta \u001b[36m0:00:00\u001b[0m\n",
            "\u001b[?25hRequirement already satisfied: numpy in /usr/local/lib/python3.10/dist-packages (from gradio) (1.22.4)\n",
            "Collecting orjson (from gradio)\n",
            "  Downloading orjson-3.9.1-cp310-cp310-manylinux_2_17_x86_64.manylinux2014_x86_64.whl (136 kB)\n",
            "\u001b[2K     \u001b[90m━━━━━━━━━━━━━━━━━━━━━━━━━━━━━━━━━━━━━━\u001b[0m \u001b[32m137.0/137.0 kB\u001b[0m \u001b[31m19.4 MB/s\u001b[0m eta \u001b[36m0:00:00\u001b[0m\n",
            "\u001b[?25hRequirement already satisfied: pandas in /usr/local/lib/python3.10/dist-packages (from gradio) (1.5.3)\n",
            "Requirement already satisfied: pillow in /usr/local/lib/python3.10/dist-packages (from gradio) (8.4.0)\n",
            "Requirement already satisfied: pydantic in /usr/local/lib/python3.10/dist-packages (from gradio) (1.10.9)\n",
            "Collecting pydub (from gradio)\n",
            "  Downloading pydub-0.25.1-py2.py3-none-any.whl (32 kB)\n",
            "Requirement already satisfied: pygments>=2.12.0 in /usr/local/lib/python3.10/dist-packages (from gradio) (2.14.0)\n",
            "Collecting python-multipart (from gradio)\n",
            "  Downloading python_multipart-0.0.6-py3-none-any.whl (45 kB)\n",
            "\u001b[2K     \u001b[90m━━━━━━━━━━━━━━━━━━━━━━━━━━━━━━━━━━━━━━━━\u001b[0m \u001b[32m45.7/45.7 kB\u001b[0m \u001b[31m7.3 MB/s\u001b[0m eta \u001b[36m0:00:00\u001b[0m\n",
            "\u001b[?25hRequirement already satisfied: pyyaml in /usr/local/lib/python3.10/dist-packages (from gradio) (6.0)\n",
            "Requirement already satisfied: requests in /usr/local/lib/python3.10/dist-packages (from gradio) (2.27.1)\n",
            "Collecting semantic-version (from gradio)\n",
            "  Downloading semantic_version-2.10.0-py2.py3-none-any.whl (15 kB)\n",
            "Collecting uvicorn>=0.14.0 (from gradio)\n",
            "  Downloading uvicorn-0.22.0-py3-none-any.whl (58 kB)\n",
            "\u001b[2K     \u001b[90m━━━━━━━━━━━━━━━━━━━━━━━━━━━━━━━━━━━━━━━━\u001b[0m \u001b[32m58.3/58.3 kB\u001b[0m \u001b[31m8.1 MB/s\u001b[0m eta \u001b[36m0:00:00\u001b[0m\n",
            "\u001b[?25hCollecting websockets>=10.0 (from gradio)\n",
            "  Downloading websockets-11.0.3-cp310-cp310-manylinux_2_5_x86_64.manylinux1_x86_64.manylinux_2_17_x86_64.manylinux2014_x86_64.whl (129 kB)\n",
            "\u001b[2K     \u001b[90m━━━━━━━━━━━━━━━━━━━━━━━━━━━━━━━━━━━━━━\u001b[0m \u001b[32m129.9/129.9 kB\u001b[0m \u001b[31m18.2 MB/s\u001b[0m eta \u001b[36m0:00:00\u001b[0m\n",
            "\u001b[?25hRequirement already satisfied: entrypoints in /usr/local/lib/python3.10/dist-packages (from altair>=4.2.0->gradio) (0.4)\n",
            "Requirement already satisfied: jsonschema>=3.0 in /usr/local/lib/python3.10/dist-packages (from altair>=4.2.0->gradio) (4.3.3)\n",
            "Requirement already satisfied: toolz in /usr/local/lib/python3.10/dist-packages (from altair>=4.2.0->gradio) (0.12.0)\n",
            "Requirement already satisfied: fsspec in /usr/local/lib/python3.10/dist-packages (from gradio-client>=0.2.7->gradio) (2023.6.0)\n",
            "Requirement already satisfied: packaging in /usr/local/lib/python3.10/dist-packages (from gradio-client>=0.2.7->gradio) (23.1)\n",
            "Requirement already satisfied: typing-extensions in /usr/local/lib/python3.10/dist-packages (from gradio-client>=0.2.7->gradio) (4.6.3)\n",
            "Requirement already satisfied: filelock in /usr/local/lib/python3.10/dist-packages (from huggingface-hub>=0.14.0->gradio) (3.12.2)\n",
            "Requirement already satisfied: tqdm>=4.42.1 in /usr/local/lib/python3.10/dist-packages (from huggingface-hub>=0.14.0->gradio) (4.65.0)\n",
            "Requirement already satisfied: mdurl~=0.1 in /usr/local/lib/python3.10/dist-packages (from markdown-it-py[linkify]>=2.0.0->gradio) (0.1.2)\n",
            "Collecting linkify-it-py<3,>=1 (from markdown-it-py[linkify]>=2.0.0->gradio)\n",
            "  Downloading linkify_it_py-2.0.2-py3-none-any.whl (19 kB)\n",
            "INFO: pip is looking at multiple versions of mdit-py-plugins to determine which version is compatible with other requirements. This could take a while.\n",
            "Collecting mdit-py-plugins<=0.3.3 (from gradio)\n",
            "  Downloading mdit_py_plugins-0.3.2-py3-none-any.whl (50 kB)\n",
            "\u001b[2K     \u001b[90m━━━━━━━━━━━━━━━━━━━━━━━━━━━━━━━━━━━━━━━━\u001b[0m \u001b[32m50.4/50.4 kB\u001b[0m \u001b[31m6.2 MB/s\u001b[0m eta \u001b[36m0:00:00\u001b[0m\n",
            "\u001b[?25h  Downloading mdit_py_plugins-0.3.1-py3-none-any.whl (46 kB)\n",
            "\u001b[2K     \u001b[90m━━━━━━━━━━━━━━━━━━━━━━━━━━━━━━━━━━━━━━━━\u001b[0m \u001b[32m46.5/46.5 kB\u001b[0m \u001b[31m6.3 MB/s\u001b[0m eta \u001b[36m0:00:00\u001b[0m\n",
            "\u001b[?25h  Downloading mdit_py_plugins-0.3.0-py3-none-any.whl (43 kB)\n",
            "\u001b[2K     \u001b[90m━━━━━━━━━━━━━━━━━━━━━━━━━━━━━━━━━━━━━━━━\u001b[0m \u001b[32m43.7/43.7 kB\u001b[0m \u001b[31m5.7 MB/s\u001b[0m eta \u001b[36m0:00:00\u001b[0m\n",
            "\u001b[?25h  Downloading mdit_py_plugins-0.2.8-py3-none-any.whl (41 kB)\n",
            "\u001b[2K     \u001b[90m━━━━━━━━━━━━━━━━━━━━━━━━━━━━━━━━━━━━━━━━\u001b[0m \u001b[32m41.0/41.0 kB\u001b[0m \u001b[31m5.5 MB/s\u001b[0m eta \u001b[36m0:00:00\u001b[0m\n",
            "\u001b[?25h  Downloading mdit_py_plugins-0.2.7-py3-none-any.whl (41 kB)\n",
            "\u001b[2K     \u001b[90m━━━━━━━━━━━━━━━━━━━━━━━━━━━━━━━━━━━━━━━━\u001b[0m \u001b[32m41.0/41.0 kB\u001b[0m \u001b[31m5.9 MB/s\u001b[0m eta \u001b[36m0:00:00\u001b[0m\n",
            "\u001b[?25h  Downloading mdit_py_plugins-0.2.6-py3-none-any.whl (39 kB)\n",
            "  Downloading mdit_py_plugins-0.2.5-py3-none-any.whl (39 kB)\n",
            "INFO: pip is looking at multiple versions of mdit-py-plugins to determine which version is compatible with other requirements. This could take a while.\n",
            "  Downloading mdit_py_plugins-0.2.4-py3-none-any.whl (39 kB)\n",
            "  Downloading mdit_py_plugins-0.2.3-py3-none-any.whl (39 kB)\n",
            "  Downloading mdit_py_plugins-0.2.2-py3-none-any.whl (39 kB)\n",
            "  Downloading mdit_py_plugins-0.2.1-py3-none-any.whl (38 kB)\n",
            "  Downloading mdit_py_plugins-0.2.0-py3-none-any.whl (38 kB)\n",
            "INFO: This is taking longer than usual. You might need to provide the dependency resolver with stricter constraints to reduce runtime. See https://pip.pypa.io/warnings/backtracking for guidance. If you want to abort this run, press Ctrl + C.\n",
            "  Downloading mdit_py_plugins-0.1.0-py3-none-any.whl (37 kB)\n",
            "Collecting markdown-it-py[linkify]>=2.0.0 (from gradio)\n",
            "  Downloading markdown_it_py-3.0.0-py3-none-any.whl (87 kB)\n",
            "\u001b[2K     \u001b[90m━━━━━━━━━━━━━━━━━━━━━━━━━━━━━━━━━━━━━━━━\u001b[0m \u001b[32m87.5/87.5 kB\u001b[0m \u001b[31m13.8 MB/s\u001b[0m eta \u001b[36m0:00:00\u001b[0m\n",
            "\u001b[?25h  Downloading markdown_it_py-2.2.0-py3-none-any.whl (84 kB)\n",
            "\u001b[2K     \u001b[90m━━━━━━━━━━━━━━━━━━━━━━━━━━━━━━━━━━━━━━━━\u001b[0m \u001b[32m84.5/84.5 kB\u001b[0m \u001b[31m12.2 MB/s\u001b[0m eta \u001b[36m0:00:00\u001b[0m\n",
            "\u001b[?25hRequirement already satisfied: python-dateutil>=2.8.1 in /usr/local/lib/python3.10/dist-packages (from pandas->gradio) (2.8.2)\n",
            "Requirement already satisfied: pytz>=2020.1 in /usr/local/lib/python3.10/dist-packages (from pandas->gradio) (2022.7.1)\n",
            "Requirement already satisfied: click>=7.0 in /usr/local/lib/python3.10/dist-packages (from uvicorn>=0.14.0->gradio) (8.1.3)\n",
            "Collecting h11>=0.8 (from uvicorn>=0.14.0->gradio)\n",
            "  Downloading h11-0.14.0-py3-none-any.whl (58 kB)\n",
            "\u001b[2K     \u001b[90m━━━━━━━━━━━━━━━━━━━━━━━━━━━━━━━━━━━━━━━━\u001b[0m \u001b[32m58.3/58.3 kB\u001b[0m \u001b[31m7.5 MB/s\u001b[0m eta \u001b[36m0:00:00\u001b[0m\n",
            "\u001b[?25hRequirement already satisfied: attrs>=17.3.0 in /usr/local/lib/python3.10/dist-packages (from aiohttp->gradio) (23.1.0)\n",
            "Requirement already satisfied: charset-normalizer<4.0,>=2.0 in /usr/local/lib/python3.10/dist-packages (from aiohttp->gradio) (2.0.12)\n",
            "Requirement already satisfied: multidict<7.0,>=4.5 in /usr/local/lib/python3.10/dist-packages (from aiohttp->gradio) (6.0.4)\n",
            "Requirement already satisfied: async-timeout<5.0,>=4.0.0a3 in /usr/local/lib/python3.10/dist-packages (from aiohttp->gradio) (4.0.2)\n",
            "Requirement already satisfied: yarl<2.0,>=1.0 in /usr/local/lib/python3.10/dist-packages (from aiohttp->gradio) (1.9.2)\n",
            "Requirement already satisfied: frozenlist>=1.1.1 in /usr/local/lib/python3.10/dist-packages (from aiohttp->gradio) (1.3.3)\n",
            "Requirement already satisfied: aiosignal>=1.1.2 in /usr/local/lib/python3.10/dist-packages (from aiohttp->gradio) (1.3.1)\n",
            "Collecting starlette<0.28.0,>=0.27.0 (from fastapi->gradio)\n",
            "  Downloading starlette-0.27.0-py3-none-any.whl (66 kB)\n",
            "\u001b[2K     \u001b[90m━━━━━━━━━━━━━━━━━━━━━━━━━━━━━━━━━━━━━━━━\u001b[0m \u001b[32m67.0/67.0 kB\u001b[0m \u001b[31m9.3 MB/s\u001b[0m eta \u001b[36m0:00:00\u001b[0m\n",
            "\u001b[?25hRequirement already satisfied: certifi in /usr/local/lib/python3.10/dist-packages (from httpx->gradio) (2023.5.7)\n",
            "Collecting httpcore<0.18.0,>=0.15.0 (from httpx->gradio)\n",
            "  Downloading httpcore-0.17.2-py3-none-any.whl (72 kB)\n",
            "\u001b[2K     \u001b[90m━━━━━━━━━━━━━━━━━━━━━━━━━━━━━━━━━━━━━━━━\u001b[0m \u001b[32m72.5/72.5 kB\u001b[0m \u001b[31m12.9 MB/s\u001b[0m eta \u001b[36m0:00:00\u001b[0m\n",
            "\u001b[?25hRequirement already satisfied: idna in /usr/local/lib/python3.10/dist-packages (from httpx->gradio) (3.4)\n",
            "Requirement already satisfied: sniffio in /usr/local/lib/python3.10/dist-packages (from httpx->gradio) (1.3.0)\n",
            "Requirement already satisfied: contourpy>=1.0.1 in /usr/local/lib/python3.10/dist-packages (from matplotlib->gradio) (1.1.0)\n",
            "Requirement already satisfied: cycler>=0.10 in /usr/local/lib/python3.10/dist-packages (from matplotlib->gradio) (0.11.0)\n",
            "Requirement already satisfied: fonttools>=4.22.0 in /usr/local/lib/python3.10/dist-packages (from matplotlib->gradio) (4.40.0)\n",
            "Requirement already satisfied: kiwisolver>=1.0.1 in /usr/local/lib/python3.10/dist-packages (from matplotlib->gradio) (1.4.4)\n",
            "Requirement already satisfied: pyparsing>=2.3.1 in /usr/local/lib/python3.10/dist-packages (from matplotlib->gradio) (3.1.0)\n",
            "Requirement already satisfied: urllib3<1.27,>=1.21.1 in /usr/local/lib/python3.10/dist-packages (from requests->gradio) (1.26.16)\n",
            "Requirement already satisfied: anyio<5.0,>=3.0 in /usr/local/lib/python3.10/dist-packages (from httpcore<0.18.0,>=0.15.0->httpx->gradio) (3.7.0)\n",
            "Requirement already satisfied: pyrsistent!=0.17.0,!=0.17.1,!=0.17.2,>=0.14.0 in /usr/local/lib/python3.10/dist-packages (from jsonschema>=3.0->altair>=4.2.0->gradio) (0.19.3)\n",
            "Collecting uc-micro-py (from linkify-it-py<3,>=1->markdown-it-py[linkify]>=2.0.0->gradio)\n",
            "  Downloading uc_micro_py-1.0.2-py3-none-any.whl (6.2 kB)\n",
            "Requirement already satisfied: six>=1.5 in /usr/local/lib/python3.10/dist-packages (from python-dateutil>=2.8.1->pandas->gradio) (1.16.0)\n",
            "Requirement already satisfied: exceptiongroup in /usr/local/lib/python3.10/dist-packages (from anyio<5.0,>=3.0->httpcore<0.18.0,>=0.15.0->httpx->gradio) (1.1.1)\n",
            "Building wheels for collected packages: ffmpy\n",
            "  Building wheel for ffmpy (setup.py) ... \u001b[?25l\u001b[?25hdone\n",
            "  Created wheel for ffmpy: filename=ffmpy-0.3.0-py3-none-any.whl size=4694 sha256=bcbfa23c8b3568fbdd48406b4531f214eb04815ee999ccaa5a7324cf56de5afb\n",
            "  Stored in directory: /root/.cache/pip/wheels/0c/c2/0e/3b9c6845c6a4e35beb90910cc70d9ac9ab5d47402bd62af0df\n",
            "Successfully built ffmpy\n",
            "Installing collected packages: pydub, ffmpy, websockets, uc-micro-py, semantic-version, python-multipart, orjson, markdown-it-py, h11, aiofiles, uvicorn, starlette, mdit-py-plugins, linkify-it-py, huggingface-hub, httpcore, httpx, fastapi, gradio-client, gradio\n",
            "  Attempting uninstall: markdown-it-py\n",
            "    Found existing installation: markdown-it-py 3.0.0\n",
            "    Uninstalling markdown-it-py-3.0.0:\n",
            "      Successfully uninstalled markdown-it-py-3.0.0\n",
            "Successfully installed aiofiles-23.1.0 fastapi-0.98.0 ffmpy-0.3.0 gradio-3.35.2 gradio-client-0.2.7 h11-0.14.0 httpcore-0.17.2 httpx-0.24.1 huggingface-hub-0.15.1 linkify-it-py-2.0.2 markdown-it-py-2.2.0 mdit-py-plugins-0.3.3 orjson-3.9.1 pydub-0.25.1 python-multipart-0.0.6 semantic-version-2.10.0 starlette-0.27.0 uc-micro-py-1.0.2 uvicorn-0.22.0 websockets-11.0.3\n"
          ]
        }
      ],
      "source": [
        "!pip install gradio\n"
      ]
    },
    {
      "cell_type": "code",
      "execution_count": null,
      "metadata": {
        "id": "Fyaht2euWsC6"
      },
      "outputs": [],
      "source": [
        "import gradio as gr\n",
        "import pandas as pd\n",
        "from sklearn.model_selection import train_test_split\n",
        "from sklearn.linear_model import LogisticRegression"
      ]
    },
    {
      "cell_type": "code",
      "execution_count": null,
      "metadata": {
        "colab": {
          "base_uri": "https://localhost:8080/",
          "height": 740
        },
        "id": "MNm4eXf3WvUg",
        "outputId": "98ccead1-858c-4fe4-a1c2-5bdb5dc785be"
      },
      "outputs": [
        {
          "output_type": "stream",
          "name": "stderr",
          "text": [
            "/usr/local/lib/python3.10/dist-packages/gradio/inputs.py:59: UserWarning: Usage of gradio.inputs is deprecated, and will not be supported in the future, please import your component from gradio.components\n",
            "  warnings.warn(\n",
            "/usr/local/lib/python3.10/dist-packages/gradio/inputs.py:62: UserWarning: `optional` parameter is deprecated, and it has no effect\n",
            "  super().__init__(value=default, label=label, optional=optional)\n",
            "/usr/local/lib/python3.10/dist-packages/gradio/outputs.py:22: UserWarning: Usage of gradio.outputs is deprecated, and will not be supported in the future, please import your components from gradio.components\n",
            "  warnings.warn(\n"
          ]
        },
        {
          "output_type": "stream",
          "name": "stdout",
          "text": [
            "Colab notebook detected. To show errors in colab notebook, set debug=True in launch()\n",
            "Note: opening Chrome Inspector may crash demo inside Colab notebooks.\n",
            "\n",
            "To create a public link, set `share=True` in `launch()`.\n"
          ]
        },
        {
          "output_type": "display_data",
          "data": {
            "text/plain": [
              "<IPython.core.display.Javascript object>"
            ],
            "application/javascript": [
              "(async (port, path, width, height, cache, element) => {\n",
              "                        if (!google.colab.kernel.accessAllowed && !cache) {\n",
              "                            return;\n",
              "                        }\n",
              "                        element.appendChild(document.createTextNode(''));\n",
              "                        const url = await google.colab.kernel.proxyPort(port, {cache});\n",
              "\n",
              "                        const external_link = document.createElement('div');\n",
              "                        external_link.innerHTML = `\n",
              "                            <div style=\"font-family: monospace; margin-bottom: 0.5rem\">\n",
              "                                Running on <a href=${new URL(path, url).toString()} target=\"_blank\">\n",
              "                                    https://localhost:${port}${path}\n",
              "                                </a>\n",
              "                            </div>\n",
              "                        `;\n",
              "                        element.appendChild(external_link);\n",
              "\n",
              "                        const iframe = document.createElement('iframe');\n",
              "                        iframe.src = new URL(path, url).toString();\n",
              "                        iframe.height = height;\n",
              "                        iframe.allow = \"autoplay; camera; microphone; clipboard-read; clipboard-write;\"\n",
              "                        iframe.width = width;\n",
              "                        iframe.style.border = 0;\n",
              "                        element.appendChild(iframe);\n",
              "                    })(7860, \"/\", \"100%\", 500, false, window.element)"
            ]
          },
          "metadata": {}
        },
        {
          "output_type": "execute_result",
          "data": {
            "text/plain": []
          },
          "metadata": {},
          "execution_count": 47
        }
      ],
      "source": [
        "# Define your predictive maintenance function\n",
        "def predict(air_temp, process_temp, speed, torque, tool_wear):\n",
        "    inputs = [air_temp, process_temp, speed, torque, tool_wear]\n",
        "    # Perform prediction using your model\n",
        "    # Return the predicted result\n",
        "    selected_features = ['Air temperature [K]', 'Process temperature [K]', 'Rotational speed [rpm]', 'Torque [Nm]', 'Tool wear [min]']\n",
        "    target_variable = 'Machine failure'\n",
        "\n",
        "    X = df[selected_features]\n",
        "    y = df[target_variable]\n",
        "\n",
        "    X_train, X_test, y_train, y_test = train_test_split(X, y, test_size=0.2, random_state=42)\n",
        "\n",
        "    # Implement the sigmoid function\n",
        "    def sigmoid(x):\n",
        "        return 1 / (1 + np.exp(-x))\n",
        "\n",
        "    # Initialize the weights\n",
        "    weights = np.zeros(X_train.shape[1] + 1)  # Add 1 for the bias term\n",
        "\n",
        "    # Add a column of ones to the feature matrix for the bias term\n",
        "    X_train_bias = np.column_stack((np.ones(len(X_train)), X_train))\n",
        "\n",
        "    # Set the learning rate and number of iterations\n",
        "    learning_rate = 0.01\n",
        "    num_iterations = 1000\n",
        "\n",
        "    # Perform gradient descent\n",
        "    for _ in range(num_iterations):\n",
        "        # Calculate the predicted probabilities\n",
        "        predictions = sigmoid(np.dot(X_train_bias, weights))\n",
        "\n",
        "        # Calculate the error\n",
        "        error = predictions - y_train\n",
        "\n",
        "        # Update the weights using gradient descent\n",
        "        gradient = np.dot(X_train_bias.T, error)\n",
        "        weights -= learning_rate * gradient\n",
        "\n",
        "    # Add a column of ones to the new data for the bias term\n",
        "    new_data_bias = np.column_stack((np.ones(len(new_data)), new_data))\n",
        "\n",
        "    # Predict the target variable for the new data\n",
        "    new_predictions = sigmoid(np.dot(new_data_bias, weights))\n",
        "\n",
        "\n",
        "\n",
        "\n",
        "    threshold = 0.5  # Set the threshold value\n",
        "\n",
        "    if predictions[0] >= threshold:\n",
        "         return \"Machine Failure: YES\"\n",
        "    else:\n",
        "         return \"Machine Failure: NO\"\n",
        "\n",
        "# Create the Gradio interface\n",
        "air_temp_input = gr.inputs.Number(label=\"Air temperature [K]\")\n",
        "process_temp_input = gr.inputs.Number(label=\"Process temperature [K]\")\n",
        "speed_input = gr.inputs.Number(label=\"Rotational speed [rpm]\")\n",
        "torque_input = gr.inputs.Number(label=\"Torque [Nm]\")\n",
        "tool_wear_input = gr.inputs.Number(label=\"Tool wear [min]\")\n",
        "\n",
        "input_array = [air_temp_input, process_temp_input, speed_input, torque_input, tool_wear_input]\n",
        "output = gr.outputs.Textbox(label=\"Prediction\")\n",
        "\n",
        "interface = gr.Interface(fn=predict, inputs=input_array, outputs=output, title=\"Predictive Maintenance\")\n",
        "interface.launch()"
      ]
    },
    {
      "cell_type": "markdown",
      "metadata": {
        "id": "IiwDo0UM3bcR"
      },
      "source": [
        "# LOGISTIC **REGRESSION**"
      ]
    },
    {
      "cell_type": "code",
      "execution_count": null,
      "metadata": {
        "colab": {
          "background_save": true
        },
        "id": "6RH31qwf3q4u"
      },
      "outputs": [],
      "source": [
        "import pandas as pd\n",
        "from sklearn.model_selection import train_test_split\n",
        "from sklearn.linear_model import LogisticRegression\n",
        "\n",
        "selected_features = ['Air temperature [K]', 'Process temperature [K]', 'Rotational speed [rpm]', 'Torque [Nm]', 'Tool wear [min]']\n",
        "target_variable = 'Machine failure'\n",
        "\n",
        "X = df[selected_features]\n",
        "y = df[target_variable]\n",
        "\n",
        "X_train, X_test, y_train, y_test = train_test_split(X, y, test_size=0.2, random_state=42)\n",
        "\n",
        "model = LogisticRegression()\n",
        "model.fit(X_train, y_train)\n",
        "y_pred = model.predict(X_test)\n",
        "\n",
        "new_data = pd.DataFrame([[298.5, 310.2, 1600, 45.2, 10]], columns=selected_features)  # Replace with your own data values\n",
        "\n",
        "new_predictions = model.predict(new_data)\n",
        "\n",
        "print(\"Predicted Machine Failure:\")\n",
        "print(new_predictions)\n",
        "\n",
        "threshold = 0.5  # Set the threshold value\n",
        "\n",
        "if new_predictions[0] >= threshold:\n",
        "    print(\"Machine Failure: YES\")\n",
        "else:\n",
        "    print(\"Machine Failure: NO\")"
      ]
    },
    {
      "cell_type": "code",
      "execution_count": null,
      "metadata": {
        "colab": {
          "background_save": true
        },
        "id": "-_u0Hxd64tRT"
      },
      "outputs": [],
      "source": [
        "#Manually\n",
        "\n",
        "import numpy as np\n",
        "\n",
        "# Implement the sigmoid function\n",
        "def sigmoid(x):\n",
        "    return 1 / (1 + np.exp(-x))\n",
        "\n",
        "# Initialize the weights\n",
        "weights = np.zeros(X_train.shape[1] + 1)  # Add 1 for the bias term\n",
        "\n",
        "# Add a column of ones to the feature matrix for the bias term\n",
        "X_train_bias = np.column_stack((np.ones(len(X_train)), X_train))\n",
        "\n",
        "# Set the learning rate and number of iterations\n",
        "learning_rate = 0.01\n",
        "num_iterations = 1000\n",
        "\n",
        "# Perform gradient descent\n",
        "for _ in range(num_iterations):\n",
        "    # Calculate the predicted probabilities\n",
        "    predictions = sigmoid(np.dot(X_train_bias, weights))\n",
        "\n",
        "    # Calculate the error\n",
        "    error = predictions - y_train\n",
        "\n",
        "    # Update the weights using gradient descent\n",
        "    gradient = np.dot(X_train_bias.T, error)\n",
        "    weights -= learning_rate * gradient\n",
        "\n",
        "# Add a column of ones to the new data for the bias term\n",
        "new_data_bias = np.column_stack((np.ones(len(new_data)), new_data))\n",
        "\n",
        "# Predict the target variable for the new data\n",
        "new_predictions = sigmoid(np.dot(new_data_bias, weights))\n",
        "\n",
        "\n",
        "\n",
        "threshold = 0.5  # Set the threshold value\n",
        "\n",
        "if new_predictions[0] >= threshold:\n",
        "    print(\"Machine Failure: YES\")\n",
        "else:\n",
        "    print(\"Machine Failure: NO\")\n"
      ]
    },
    {
      "cell_type": "code",
      "execution_count": null,
      "metadata": {
        "colab": {
          "background_save": true
        },
        "id": "ctah2XCM4PEU"
      },
      "outputs": [],
      "source": [
        "# Calculate the mean squared error\n",
        "mse = mean_squared_error(y_test, y_pred)\n",
        "print(\"Mean Squared Error:\", mse)"
      ]
    },
    {
      "cell_type": "code",
      "execution_count": null,
      "metadata": {
        "colab": {
          "background_save": true
        },
        "id": "eIYiK8mu6bQb"
      },
      "outputs": [],
      "source": [
        "# Calculate the accuracy\n",
        "accuracy = (y_pred == y_test).mean() * 100\n",
        "print(\"Accuracy:\", accuracy)"
      ]
    },
    {
      "cell_type": "markdown",
      "metadata": {
        "id": "d0N82DHM4x4d"
      },
      "source": [
        "# DECISION TREE"
      ]
    },
    {
      "cell_type": "code",
      "execution_count": null,
      "metadata": {
        "colab": {
          "background_save": true
        },
        "id": "JXgkap5F5A9v"
      },
      "outputs": [],
      "source": [
        "import pandas as pd\n",
        "from sklearn.model_selection import train_test_split\n",
        "from sklearn.tree import DecisionTreeClassifier\n",
        "\n",
        "\n",
        "selected_features = ['Air temperature [K]', 'Process temperature [K]', 'Rotational speed [rpm]', 'Torque [Nm]', 'Tool wear [min]']\n",
        "target_variable = 'Machine failure'\n",
        "\n",
        "X = df[selected_features]\n",
        "y = df[target_variable]\n",
        "\n",
        "\n",
        "X_train, X_test, y_train, y_test = train_test_split(X, y, test_size=0.2, random_state=42)\n",
        "\n",
        "\n",
        "model = DecisionTreeClassifier()\n",
        "model.fit(X_train, y_train)\n",
        "y_pred = model.predict(X_test)\n",
        "\n",
        "new_data = pd.DataFrame([[298.5, 310.2, 1600, 45.2, 10]], columns=selected_features)  # Replace with your own data values\n",
        "\n",
        "new_predictions = model.predict(new_data)\n",
        "\n",
        "\n",
        "threshold = 0.5  # Set the threshold value\n",
        "\n",
        "if new_predictions[0] >= threshold:\n",
        "    print(\"Machine Failure: YES\")\n",
        "else:\n",
        "    print(\"Machine Failure: NO\")\n"
      ]
    },
    {
      "cell_type": "code",
      "execution_count": null,
      "metadata": {
        "colab": {
          "background_save": true
        },
        "id": "ZuAZXBSd5U2M"
      },
      "outputs": [],
      "source": [
        "#Manually\n",
        "\n",
        "import pandas as pd\n",
        "import numpy as np\n",
        "\n",
        "def calculate_entropy(y):\n",
        "    # Calculate entropy\n",
        "    unique_values, counts = np.unique(y, return_counts=True)\n",
        "    probabilities = counts / len(y)\n",
        "    entropy = -np.sum(probabilities * np.log2(probabilities))\n",
        "    return entropy\n",
        "\n",
        "def calculate_information_gain(X, y, feature):\n",
        "    # Calculate information gain\n",
        "    entropy_parent = calculate_entropy(y)\n",
        "\n",
        "    unique_values, counts = np.unique(X[feature], return_counts=True)\n",
        "    weighted_entropy_children = 0\n",
        "\n",
        "    for value, count in zip(unique_values, counts):\n",
        "        child_subset = y[X[feature] == value]\n",
        "        weighted_entropy_children += count / len(X) * calculate_entropy(child_subset)\n",
        "\n",
        "    information_gain = entropy_parent - weighted_entropy_children\n",
        "    return information_gain\n",
        "\n",
        "def build_tree(X, y, features):\n",
        "    # Build decision tree recursively\n",
        "    if len(np.unique(y)) == 1:\n",
        "        return np.unique(y)[0]\n",
        "\n",
        "    if len(features) == 0:\n",
        "        return np.bincount(y).argmax()\n",
        "\n",
        "    information_gains = [calculate_information_gain(X, y, feature) for feature in features]\n",
        "    best_feature_index = np.argmax(information_gains)\n",
        "    best_feature = features[best_feature_index]\n",
        "\n",
        "    tree = {best_feature: {}}\n",
        "    remaining_features = [f for i, f in enumerate(features) if i != best_feature_index]\n",
        "\n",
        "    unique_values, counts = np.unique(X[best_feature], return_counts=True)\n",
        "    for value, count in zip(unique_values, counts):\n",
        "        X_subset = X[X[best_feature] == value]\n",
        "        y_subset = y[X[best_feature] == value]\n",
        "        tree[best_feature][value] = build_tree(X_subset, y_subset, remaining_features)\n",
        "\n",
        "    return tree\n",
        "\n",
        "def predict(tree, sample):\n",
        "    # Predict the target variable for a sample using the decision tree\n",
        "    if not isinstance(tree, dict):\n",
        "        return tree\n",
        "\n",
        "    feature = next(iter(tree))\n",
        "    value = sample[feature]\n",
        "\n",
        "    if value not in tree[feature]:\n",
        "        return None\n",
        "\n",
        "    subtree = tree[feature][value]\n",
        "    return predict(subtree, sample)\n",
        "\n",
        "\n",
        "# Select the features and target variable\n",
        "selected_features = ['Air temperature [K]', 'Process temperature [K]', 'Rotational speed [rpm]', 'Torque [Nm]', 'Tool wear [min]']\n",
        "target_variable = 'Machine failure'\n",
        "\n",
        "X = df[selected_features]\n",
        "y = df[target_variable]\n",
        "\n",
        "# Build the decision tree\n",
        "tree = build_tree(X, y, selected_features)\n",
        "\n",
        "# Predict on new data\n",
        "new_data = pd.DataFrame([[298.5, 310.2, 1600, 45.2, 10]], columns=selected_features)  # Replace with your own data values\n",
        "\n",
        "\n",
        "\n",
        "new_predictions = model.predict(new_data)\n",
        "\n",
        "\n",
        "print(\"Predicted Machine Failure:\")\n",
        "print(predictions)\n",
        "\n",
        "threshold = 0.5  # Set the threshold value\n",
        "\n",
        "if new_predictions[0] >= threshold:\n",
        "    print(\"Machine Failure: YES\")\n",
        "else:\n",
        "    print(\"Machine Failure: NO\")\n"
      ]
    },
    {
      "cell_type": "code",
      "execution_count": null,
      "metadata": {
        "colab": {
          "background_save": true
        },
        "id": "KPdYcrfQ6DgR"
      },
      "outputs": [],
      "source": [
        "# Calculate the mean squared error\n",
        "mse = mean_squared_error(y_test, y_pred)\n",
        "print(\"Mean Squared Error:\", mse)"
      ]
    },
    {
      "cell_type": "code",
      "execution_count": null,
      "metadata": {
        "colab": {
          "background_save": true
        },
        "id": "o8EgJs8t6KWu"
      },
      "outputs": [],
      "source": [
        "# Calculate the accuracy\n",
        "accuracy = (y_pred == y_test).mean() * 100\n",
        "print(\"Accuracy:\", accuracy)"
      ]
    },
    {
      "cell_type": "code",
      "execution_count": null,
      "metadata": {
        "colab": {
          "background_save": true
        },
        "id": "erYMAAFf6X2p"
      },
      "outputs": [],
      "source": [
        "from sklearn import tree\n",
        "import matplotlib.pyplot as plt"
      ]
    },
    {
      "cell_type": "code",
      "execution_count": null,
      "metadata": {
        "colab": {
          "background_save": true
        },
        "id": "6a_CKf9P6nCD"
      },
      "outputs": [],
      "source": [
        "# Select the features and target variable\n",
        "selected_features = ['Air temperature [K]', 'Process temperature [K]', 'Rotational speed [rpm]', 'Torque [Nm]', 'Tool wear [min]']\n",
        "target_variable = 'Machine failure'\n",
        "\n",
        "X = df[selected_features]\n",
        "y = df[target_variable]\n",
        "\n",
        "# Build the decision tree\n",
        "model = DecisionTreeClassifier()\n",
        "model.fit(X_train, y_train)\n",
        "\n",
        "# Plot the decision tree\n",
        "plt.figure(figsize=(12, 8))\n",
        "tree.plot_tree(model, feature_names=selected_features, class_names=['No Failure', 'Failure'], filled=True)\n",
        "plt.show()"
      ]
    },
    {
      "cell_type": "markdown",
      "metadata": {
        "id": "XxlaVTC-7T4O"
      },
      "source": [
        "# NAIVE BAYES"
      ]
    },
    {
      "cell_type": "code",
      "execution_count": null,
      "metadata": {
        "colab": {
          "background_save": true
        },
        "id": "1-tpKjYd7Xlb"
      },
      "outputs": [],
      "source": [
        "import pandas as pd\n",
        "from sklearn.model_selection import train_test_split\n",
        "from sklearn.naive_bayes import GaussianNB\n",
        "\n",
        "\n",
        "\n",
        "# Select the features and target variable\n",
        "selected_features = ['Air temperature [K]', 'Process temperature [K]', 'Rotational speed [rpm]', 'Torque [Nm]', 'Tool wear [min]']\n",
        "target_variable = 'Machine failure'\n",
        "\n",
        "X = df[selected_features]\n",
        "y = df[target_variable]\n",
        "\n",
        "# Split the data into training and testing sets\n",
        "X_train, X_test, y_train, y_test = train_test_split(X, y, test_size=0.2, random_state=42)\n",
        "\n",
        "# Create and fit the Naive Bayes model\n",
        "model = GaussianNB()\n",
        "model.fit(X_train, y_train)\n",
        "\n",
        "# Predict on the testing set\n",
        "y_pred = model.predict(X_test)\n",
        "\n",
        "# Predict on new data\n",
        "new_data = pd.DataFrame([[298.5, 310.2, 1600, 45.2, 10]], columns=selected_features)  # Replace with your own data values\n",
        "\n",
        "\n",
        "\n",
        "new_predictions = model.predict(new_data)\n",
        "\n",
        "\n",
        "\n",
        "threshold = 0.5  # Set the threshold value\n",
        "\n",
        "if new_predictions[0] >= threshold:\n",
        "    print(\"Machine Failure: YES\")\n",
        "else:\n",
        "    print(\"Machine Failure: NO\")\n"
      ]
    },
    {
      "cell_type": "code",
      "execution_count": null,
      "metadata": {
        "colab": {
          "background_save": true
        },
        "id": "A5GE7Iuj7mdU"
      },
      "outputs": [],
      "source": [
        "# Calculate the accuracy\n",
        "accuracy = (y_pred == y_test).mean() * 100\n",
        "print(\"Accuracy:\", accuracy)"
      ]
    },
    {
      "cell_type": "code",
      "execution_count": null,
      "metadata": {
        "colab": {
          "background_save": true
        },
        "id": "kx6GFHOv7s96"
      },
      "outputs": [],
      "source": [
        "# Calculate the mean squared error\n",
        "mse = mean_squared_error(y_test, y_pred)\n",
        "print(\"Mean Squared Error:\", mse)"
      ]
    },
    {
      "cell_type": "code",
      "execution_count": null,
      "metadata": {
        "colab": {
          "background_save": true
        },
        "id": "wg_K-UG476L_"
      },
      "outputs": [],
      "source": [
        "\n",
        "\n",
        "# Assuming the failure threshold is 1000 minutes\n",
        "failure_threshold = 1000\n",
        "\n",
        "# Calculate RUL\n",
        "df['RUL'] = failure_threshold - df['Tool wear [min]']\n",
        "\n",
        "# Print RUL column\n",
        "print(df['RUL'])\n"
      ]
    },
    {
      "cell_type": "markdown",
      "metadata": {
        "id": "fFxuxUS-78DL"
      },
      "source": [
        "In this code, you load the dataset and define the failure threshold (in this case, assumed as 1000 minutes). Then, you calculate the RUL by subtracting the current tool wear time from the failure threshold for each data point. The RUL values are stored in a new column named \"RUL\". Finally, you print the RUL values."
      ]
    }
  ],
  "metadata": {
    "colab": {
      "provenance": [],
      "authorship_tag": "ABX9TyPylplzF4CgJ1XgxxghgIUd",
      "include_colab_link": true
    },
    "kernelspec": {
      "display_name": "Python 3",
      "name": "python3"
    },
    "language_info": {
      "name": "python"
    }
  },
  "nbformat": 4,
  "nbformat_minor": 0
}